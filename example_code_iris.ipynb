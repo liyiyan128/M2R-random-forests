{
 "cells": [
  {
   "cell_type": "code",
   "execution_count": 1,
   "metadata": {},
   "outputs": [
    {
     "data": {
      "text/plain": [
       "{'data': array([[5.1, 3.5, 1.4, 0.2],\n",
       "        [4.9, 3. , 1.4, 0.2],\n",
       "        [4.7, 3.2, 1.3, 0.2],\n",
       "        [4.6, 3.1, 1.5, 0.2],\n",
       "        [5. , 3.6, 1.4, 0.2],\n",
       "        [5.4, 3.9, 1.7, 0.4],\n",
       "        [4.6, 3.4, 1.4, 0.3],\n",
       "        [5. , 3.4, 1.5, 0.2],\n",
       "        [4.4, 2.9, 1.4, 0.2],\n",
       "        [4.9, 3.1, 1.5, 0.1],\n",
       "        [5.4, 3.7, 1.5, 0.2],\n",
       "        [4.8, 3.4, 1.6, 0.2],\n",
       "        [4.8, 3. , 1.4, 0.1],\n",
       "        [4.3, 3. , 1.1, 0.1],\n",
       "        [5.8, 4. , 1.2, 0.2],\n",
       "        [5.7, 4.4, 1.5, 0.4],\n",
       "        [5.4, 3.9, 1.3, 0.4],\n",
       "        [5.1, 3.5, 1.4, 0.3],\n",
       "        [5.7, 3.8, 1.7, 0.3],\n",
       "        [5.1, 3.8, 1.5, 0.3],\n",
       "        [5.4, 3.4, 1.7, 0.2],\n",
       "        [5.1, 3.7, 1.5, 0.4],\n",
       "        [4.6, 3.6, 1. , 0.2],\n",
       "        [5.1, 3.3, 1.7, 0.5],\n",
       "        [4.8, 3.4, 1.9, 0.2],\n",
       "        [5. , 3. , 1.6, 0.2],\n",
       "        [5. , 3.4, 1.6, 0.4],\n",
       "        [5.2, 3.5, 1.5, 0.2],\n",
       "        [5.2, 3.4, 1.4, 0.2],\n",
       "        [4.7, 3.2, 1.6, 0.2],\n",
       "        [4.8, 3.1, 1.6, 0.2],\n",
       "        [5.4, 3.4, 1.5, 0.4],\n",
       "        [5.2, 4.1, 1.5, 0.1],\n",
       "        [5.5, 4.2, 1.4, 0.2],\n",
       "        [4.9, 3.1, 1.5, 0.2],\n",
       "        [5. , 3.2, 1.2, 0.2],\n",
       "        [5.5, 3.5, 1.3, 0.2],\n",
       "        [4.9, 3.6, 1.4, 0.1],\n",
       "        [4.4, 3. , 1.3, 0.2],\n",
       "        [5.1, 3.4, 1.5, 0.2],\n",
       "        [5. , 3.5, 1.3, 0.3],\n",
       "        [4.5, 2.3, 1.3, 0.3],\n",
       "        [4.4, 3.2, 1.3, 0.2],\n",
       "        [5. , 3.5, 1.6, 0.6],\n",
       "        [5.1, 3.8, 1.9, 0.4],\n",
       "        [4.8, 3. , 1.4, 0.3],\n",
       "        [5.1, 3.8, 1.6, 0.2],\n",
       "        [4.6, 3.2, 1.4, 0.2],\n",
       "        [5.3, 3.7, 1.5, 0.2],\n",
       "        [5. , 3.3, 1.4, 0.2],\n",
       "        [7. , 3.2, 4.7, 1.4],\n",
       "        [6.4, 3.2, 4.5, 1.5],\n",
       "        [6.9, 3.1, 4.9, 1.5],\n",
       "        [5.5, 2.3, 4. , 1.3],\n",
       "        [6.5, 2.8, 4.6, 1.5],\n",
       "        [5.7, 2.8, 4.5, 1.3],\n",
       "        [6.3, 3.3, 4.7, 1.6],\n",
       "        [4.9, 2.4, 3.3, 1. ],\n",
       "        [6.6, 2.9, 4.6, 1.3],\n",
       "        [5.2, 2.7, 3.9, 1.4],\n",
       "        [5. , 2. , 3.5, 1. ],\n",
       "        [5.9, 3. , 4.2, 1.5],\n",
       "        [6. , 2.2, 4. , 1. ],\n",
       "        [6.1, 2.9, 4.7, 1.4],\n",
       "        [5.6, 2.9, 3.6, 1.3],\n",
       "        [6.7, 3.1, 4.4, 1.4],\n",
       "        [5.6, 3. , 4.5, 1.5],\n",
       "        [5.8, 2.7, 4.1, 1. ],\n",
       "        [6.2, 2.2, 4.5, 1.5],\n",
       "        [5.6, 2.5, 3.9, 1.1],\n",
       "        [5.9, 3.2, 4.8, 1.8],\n",
       "        [6.1, 2.8, 4. , 1.3],\n",
       "        [6.3, 2.5, 4.9, 1.5],\n",
       "        [6.1, 2.8, 4.7, 1.2],\n",
       "        [6.4, 2.9, 4.3, 1.3],\n",
       "        [6.6, 3. , 4.4, 1.4],\n",
       "        [6.8, 2.8, 4.8, 1.4],\n",
       "        [6.7, 3. , 5. , 1.7],\n",
       "        [6. , 2.9, 4.5, 1.5],\n",
       "        [5.7, 2.6, 3.5, 1. ],\n",
       "        [5.5, 2.4, 3.8, 1.1],\n",
       "        [5.5, 2.4, 3.7, 1. ],\n",
       "        [5.8, 2.7, 3.9, 1.2],\n",
       "        [6. , 2.7, 5.1, 1.6],\n",
       "        [5.4, 3. , 4.5, 1.5],\n",
       "        [6. , 3.4, 4.5, 1.6],\n",
       "        [6.7, 3.1, 4.7, 1.5],\n",
       "        [6.3, 2.3, 4.4, 1.3],\n",
       "        [5.6, 3. , 4.1, 1.3],\n",
       "        [5.5, 2.5, 4. , 1.3],\n",
       "        [5.5, 2.6, 4.4, 1.2],\n",
       "        [6.1, 3. , 4.6, 1.4],\n",
       "        [5.8, 2.6, 4. , 1.2],\n",
       "        [5. , 2.3, 3.3, 1. ],\n",
       "        [5.6, 2.7, 4.2, 1.3],\n",
       "        [5.7, 3. , 4.2, 1.2],\n",
       "        [5.7, 2.9, 4.2, 1.3],\n",
       "        [6.2, 2.9, 4.3, 1.3],\n",
       "        [5.1, 2.5, 3. , 1.1],\n",
       "        [5.7, 2.8, 4.1, 1.3],\n",
       "        [6.3, 3.3, 6. , 2.5],\n",
       "        [5.8, 2.7, 5.1, 1.9],\n",
       "        [7.1, 3. , 5.9, 2.1],\n",
       "        [6.3, 2.9, 5.6, 1.8],\n",
       "        [6.5, 3. , 5.8, 2.2],\n",
       "        [7.6, 3. , 6.6, 2.1],\n",
       "        [4.9, 2.5, 4.5, 1.7],\n",
       "        [7.3, 2.9, 6.3, 1.8],\n",
       "        [6.7, 2.5, 5.8, 1.8],\n",
       "        [7.2, 3.6, 6.1, 2.5],\n",
       "        [6.5, 3.2, 5.1, 2. ],\n",
       "        [6.4, 2.7, 5.3, 1.9],\n",
       "        [6.8, 3. , 5.5, 2.1],\n",
       "        [5.7, 2.5, 5. , 2. ],\n",
       "        [5.8, 2.8, 5.1, 2.4],\n",
       "        [6.4, 3.2, 5.3, 2.3],\n",
       "        [6.5, 3. , 5.5, 1.8],\n",
       "        [7.7, 3.8, 6.7, 2.2],\n",
       "        [7.7, 2.6, 6.9, 2.3],\n",
       "        [6. , 2.2, 5. , 1.5],\n",
       "        [6.9, 3.2, 5.7, 2.3],\n",
       "        [5.6, 2.8, 4.9, 2. ],\n",
       "        [7.7, 2.8, 6.7, 2. ],\n",
       "        [6.3, 2.7, 4.9, 1.8],\n",
       "        [6.7, 3.3, 5.7, 2.1],\n",
       "        [7.2, 3.2, 6. , 1.8],\n",
       "        [6.2, 2.8, 4.8, 1.8],\n",
       "        [6.1, 3. , 4.9, 1.8],\n",
       "        [6.4, 2.8, 5.6, 2.1],\n",
       "        [7.2, 3. , 5.8, 1.6],\n",
       "        [7.4, 2.8, 6.1, 1.9],\n",
       "        [7.9, 3.8, 6.4, 2. ],\n",
       "        [6.4, 2.8, 5.6, 2.2],\n",
       "        [6.3, 2.8, 5.1, 1.5],\n",
       "        [6.1, 2.6, 5.6, 1.4],\n",
       "        [7.7, 3. , 6.1, 2.3],\n",
       "        [6.3, 3.4, 5.6, 2.4],\n",
       "        [6.4, 3.1, 5.5, 1.8],\n",
       "        [6. , 3. , 4.8, 1.8],\n",
       "        [6.9, 3.1, 5.4, 2.1],\n",
       "        [6.7, 3.1, 5.6, 2.4],\n",
       "        [6.9, 3.1, 5.1, 2.3],\n",
       "        [5.8, 2.7, 5.1, 1.9],\n",
       "        [6.8, 3.2, 5.9, 2.3],\n",
       "        [6.7, 3.3, 5.7, 2.5],\n",
       "        [6.7, 3. , 5.2, 2.3],\n",
       "        [6.3, 2.5, 5. , 1.9],\n",
       "        [6.5, 3. , 5.2, 2. ],\n",
       "        [6.2, 3.4, 5.4, 2.3],\n",
       "        [5.9, 3. , 5.1, 1.8]]),\n",
       " 'target': array([0, 0, 0, 0, 0, 0, 0, 0, 0, 0, 0, 0, 0, 0, 0, 0, 0, 0, 0, 0, 0, 0,\n",
       "        0, 0, 0, 0, 0, 0, 0, 0, 0, 0, 0, 0, 0, 0, 0, 0, 0, 0, 0, 0, 0, 0,\n",
       "        0, 0, 0, 0, 0, 0, 1, 1, 1, 1, 1, 1, 1, 1, 1, 1, 1, 1, 1, 1, 1, 1,\n",
       "        1, 1, 1, 1, 1, 1, 1, 1, 1, 1, 1, 1, 1, 1, 1, 1, 1, 1, 1, 1, 1, 1,\n",
       "        1, 1, 1, 1, 1, 1, 1, 1, 1, 1, 1, 1, 2, 2, 2, 2, 2, 2, 2, 2, 2, 2,\n",
       "        2, 2, 2, 2, 2, 2, 2, 2, 2, 2, 2, 2, 2, 2, 2, 2, 2, 2, 2, 2, 2, 2,\n",
       "        2, 2, 2, 2, 2, 2, 2, 2, 2, 2, 2, 2, 2, 2, 2, 2, 2, 2]),\n",
       " 'frame': None,\n",
       " 'target_names': array(['setosa', 'versicolor', 'virginica'], dtype='<U10'),\n",
       " 'DESCR': '.. _iris_dataset:\\n\\nIris plants dataset\\n--------------------\\n\\n**Data Set Characteristics:**\\n\\n    :Number of Instances: 150 (50 in each of three classes)\\n    :Number of Attributes: 4 numeric, predictive attributes and the class\\n    :Attribute Information:\\n        - sepal length in cm\\n        - sepal width in cm\\n        - petal length in cm\\n        - petal width in cm\\n        - class:\\n                - Iris-Setosa\\n                - Iris-Versicolour\\n                - Iris-Virginica\\n                \\n    :Summary Statistics:\\n\\n    ============== ==== ==== ======= ===== ====================\\n                    Min  Max   Mean    SD   Class Correlation\\n    ============== ==== ==== ======= ===== ====================\\n    sepal length:   4.3  7.9   5.84   0.83    0.7826\\n    sepal width:    2.0  4.4   3.05   0.43   -0.4194\\n    petal length:   1.0  6.9   3.76   1.76    0.9490  (high!)\\n    petal width:    0.1  2.5   1.20   0.76    0.9565  (high!)\\n    ============== ==== ==== ======= ===== ====================\\n\\n    :Missing Attribute Values: None\\n    :Class Distribution: 33.3% for each of 3 classes.\\n    :Creator: R.A. Fisher\\n    :Donor: Michael Marshall (MARSHALL%PLU@io.arc.nasa.gov)\\n    :Date: July, 1988\\n\\nThe famous Iris database, first used by Sir R.A. Fisher. The dataset is taken\\nfrom Fisher\\'s paper. Note that it\\'s the same as in R, but not as in the UCI\\nMachine Learning Repository, which has two wrong data points.\\n\\nThis is perhaps the best known database to be found in the\\npattern recognition literature.  Fisher\\'s paper is a classic in the field and\\nis referenced frequently to this day.  (See Duda & Hart, for example.)  The\\ndata set contains 3 classes of 50 instances each, where each class refers to a\\ntype of iris plant.  One class is linearly separable from the other 2; the\\nlatter are NOT linearly separable from each other.\\n\\n.. topic:: References\\n\\n   - Fisher, R.A. \"The use of multiple measurements in taxonomic problems\"\\n     Annual Eugenics, 7, Part II, 179-188 (1936); also in \"Contributions to\\n     Mathematical Statistics\" (John Wiley, NY, 1950).\\n   - Duda, R.O., & Hart, P.E. (1973) Pattern Classification and Scene Analysis.\\n     (Q327.D83) John Wiley & Sons.  ISBN 0-471-22361-1.  See page 218.\\n   - Dasarathy, B.V. (1980) \"Nosing Around the Neighborhood: A New System\\n     Structure and Classification Rule for Recognition in Partially Exposed\\n     Environments\".  IEEE Transactions on Pattern Analysis and Machine\\n     Intelligence, Vol. PAMI-2, No. 1, 67-71.\\n   - Gates, G.W. (1972) \"The Reduced Nearest Neighbor Rule\".  IEEE Transactions\\n     on Information Theory, May 1972, 431-433.\\n   - See also: 1988 MLC Proceedings, 54-64.  Cheeseman et al\"s AUTOCLASS II\\n     conceptual clustering system finds 3 classes in the data.\\n   - Many, many more ...',\n",
       " 'feature_names': ['sepal length (cm)',\n",
       "  'sepal width (cm)',\n",
       "  'petal length (cm)',\n",
       "  'petal width (cm)'],\n",
       " 'filename': 'iris.csv',\n",
       " 'data_module': 'sklearn.datasets.data'}"
      ]
     },
     "execution_count": 1,
     "metadata": {},
     "output_type": "execute_result"
    }
   ],
   "source": [
    "import numpy as np\n",
    "import sklearn as sk\n",
    "from sklearn.datasets import load_iris\n",
    "from sklearn import model_selection\n",
    "\n",
    "iris = load_iris()\n",
    "iris"
   ]
  },
  {
   "cell_type": "code",
   "execution_count": 2,
   "metadata": {},
   "outputs": [
    {
     "data": {
      "text/plain": [
       "(150, 4)"
      ]
     },
     "execution_count": 2,
     "metadata": {},
     "output_type": "execute_result"
    }
   ],
   "source": [
    "X = iris['data']\n",
    "y = iris['target']\n",
    "\n",
    "X.shape"
   ]
  },
  {
   "cell_type": "code",
   "execution_count": 3,
   "metadata": {},
   "outputs": [
    {
     "data": {
      "text/plain": [
       "((112, 4), (38, 4))"
      ]
     },
     "execution_count": 3,
     "metadata": {},
     "output_type": "execute_result"
    }
   ],
   "source": [
    "X_train, X_test, y_train, y_test = model_selection.train_test_split(X, y)\n",
    "X_train.shape, X_test.shape"
   ]
  },
  {
   "cell_type": "code",
   "execution_count": 4,
   "metadata": {},
   "outputs": [],
   "source": [
    "import importlib\n",
    "rf = importlib.import_module(\"random-forests\")"
   ]
  },
  {
   "cell_type": "code",
   "execution_count": 5,
   "metadata": {},
   "outputs": [],
   "source": [
    "decision_tree = rf.DecisionTree(max_depth=100, min_leaf_size=1, n_candidates=100, criterion='gini')\n",
    "decision_tree.fit(X_train, y_train, feature_type=\"continuous\")"
   ]
  },
  {
   "cell_type": "code",
   "execution_count": 6,
   "metadata": {},
   "outputs": [
    {
     "data": {
      "text/plain": [
       "array([array([4.9, 7. ]), array([2. , 3.3]), array([3.3, 4.9]),\n",
       "       array([1. , 1.7])], dtype=object)"
      ]
     },
     "execution_count": 6,
     "metadata": {},
     "output_type": "execute_result"
    }
   ],
   "source": [
    "decision_tree.data_range"
   ]
  },
  {
   "cell_type": "code",
   "execution_count": 7,
   "metadata": {},
   "outputs": [],
   "source": [
    "y_predicted = decision_tree.predict(X_test)"
   ]
  },
  {
   "cell_type": "code",
   "execution_count": 8,
   "metadata": {},
   "outputs": [
    {
     "data": {
      "text/plain": [
       "[<matplotlib.lines.Line2D at 0x131b84a90>]"
      ]
     },
     "execution_count": 8,
     "metadata": {},
     "output_type": "execute_result"
    },
    {
     "data": {
      "image/png": "[encoded data removed]",
      "text/plain": [
       "<Figure size 640x480 with 1 Axes>"
      ]
     },
     "metadata": {},
     "output_type": "display_data"
    }
   ],
   "source": [
    "from matplotlib import pyplot as plt\n",
    "\n",
    "xs = [i for i in range(len(y_test))]\n",
    "\n",
    "fig = plt.figure(1)\n",
    "plt.plot(xs, y_test, 'o')\n",
    "plt.plot(xs, y_predicted, 'x')"
   ]
  },
  {
   "cell_type": "code",
   "execution_count": 10,
   "metadata": {},
   "outputs": [
    {
     "data": {
      "text/plain": [
       "(0.2, 's', 1.0, 'm', 2.0, 'l')"
      ]
     },
     "execution_count": 10,
     "metadata": {},
     "output_type": "execute_result"
    }
   ],
   "source": [
    "cat = list([\"a\" for n in range(150)])\n",
    "for n in range(150):\n",
    "    if X[n, 3] <= 0.8:\n",
    "        cat[n] = \"s\"\n",
    "    elif 0.8 < X[n, 3] <= 1.6:\n",
    "        cat[n] = \"m\"\n",
    "    elif X[n, 3] > 1.6:\n",
    "        cat[n] = \"l\"\n",
    "\n",
    "X[10, 3], cat[10], X[60, 3], cat[60], X[110, 3], cat[110]\n"
   ]
  },
  {
   "cell_type": "code",
   "execution_count": 18,
   "metadata": {},
   "outputs": [
    {
     "data": {
      "text/plain": [
       "array([[5.1, 3.5, 1.4, 's'],\n",
       "       [4.9, 3.0, 1.4, 's'],\n",
       "       [4.7, 3.2, 1.3, 's'],\n",
       "       [4.6, 3.1, 1.5, 's'],\n",
       "       [5.0, 3.6, 1.4, 's'],\n",
       "       [5.4, 3.9, 1.7, 's'],\n",
       "       [4.6, 3.4, 1.4, 's'],\n",
       "       [5.0, 3.4, 1.5, 's'],\n",
       "       [4.4, 2.9, 1.4, 's'],\n",
       "       [4.9, 3.1, 1.5, 's'],\n",
       "       [5.4, 3.7, 1.5, 's'],\n",
       "       [4.8, 3.4, 1.6, 's'],\n",
       "       [4.8, 3.0, 1.4, 's'],\n",
       "       [4.3, 3.0, 1.1, 's'],\n",
       "       [5.8, 4.0, 1.2, 's'],\n",
       "       [5.7, 4.4, 1.5, 's'],\n",
       "       [5.4, 3.9, 1.3, 's'],\n",
       "       [5.1, 3.5, 1.4, 's'],\n",
       "       [5.7, 3.8, 1.7, 's'],\n",
       "       [5.1, 3.8, 1.5, 's'],\n",
       "       [5.4, 3.4, 1.7, 's'],\n",
       "       [5.1, 3.7, 1.5, 's'],\n",
       "       [4.6, 3.6, 1.0, 's'],\n",
       "       [5.1, 3.3, 1.7, 's'],\n",
       "       [4.8, 3.4, 1.9, 's'],\n",
       "       [5.0, 3.0, 1.6, 's'],\n",
       "       [5.0, 3.4, 1.6, 's'],\n",
       "       [5.2, 3.5, 1.5, 's'],\n",
       "       [5.2, 3.4, 1.4, 's'],\n",
       "       [4.7, 3.2, 1.6, 's'],\n",
       "       [4.8, 3.1, 1.6, 's'],\n",
       "       [5.4, 3.4, 1.5, 's'],\n",
       "       [5.2, 4.1, 1.5, 's'],\n",
       "       [5.5, 4.2, 1.4, 's'],\n",
       "       [4.9, 3.1, 1.5, 's'],\n",
       "       [5.0, 3.2, 1.2, 's'],\n",
       "       [5.5, 3.5, 1.3, 's'],\n",
       "       [4.9, 3.6, 1.4, 's'],\n",
       "       [4.4, 3.0, 1.3, 's'],\n",
       "       [5.1, 3.4, 1.5, 's'],\n",
       "       [5.0, 3.5, 1.3, 's'],\n",
       "       [4.5, 2.3, 1.3, 's'],\n",
       "       [4.4, 3.2, 1.3, 's'],\n",
       "       [5.0, 3.5, 1.6, 's'],\n",
       "       [5.1, 3.8, 1.9, 's'],\n",
       "       [4.8, 3.0, 1.4, 's'],\n",
       "       [5.1, 3.8, 1.6, 's'],\n",
       "       [4.6, 3.2, 1.4, 's'],\n",
       "       [5.3, 3.7, 1.5, 's'],\n",
       "       [5.0, 3.3, 1.4, 's'],\n",
       "       [7.0, 3.2, 4.7, 'm'],\n",
       "       [6.4, 3.2, 4.5, 'm'],\n",
       "       [6.9, 3.1, 4.9, 'm'],\n",
       "       [5.5, 2.3, 4.0, 'm'],\n",
       "       [6.5, 2.8, 4.6, 'm'],\n",
       "       [5.7, 2.8, 4.5, 'm'],\n",
       "       [6.3, 3.3, 4.7, 'm'],\n",
       "       [4.9, 2.4, 3.3, 'm'],\n",
       "       [6.6, 2.9, 4.6, 'm'],\n",
       "       [5.2, 2.7, 3.9, 'm'],\n",
       "       [5.0, 2.0, 3.5, 'm'],\n",
       "       [5.9, 3.0, 4.2, 'm'],\n",
       "       [6.0, 2.2, 4.0, 'm'],\n",
       "       [6.1, 2.9, 4.7, 'm'],\n",
       "       [5.6, 2.9, 3.6, 'm'],\n",
       "       [6.7, 3.1, 4.4, 'm'],\n",
       "       [5.6, 3.0, 4.5, 'm'],\n",
       "       [5.8, 2.7, 4.1, 'm'],\n",
       "       [6.2, 2.2, 4.5, 'm'],\n",
       "       [5.6, 2.5, 3.9, 'm'],\n",
       "       [5.9, 3.2, 4.8, 'l'],\n",
       "       [6.1, 2.8, 4.0, 'm'],\n",
       "       [6.3, 2.5, 4.9, 'm'],\n",
       "       [6.1, 2.8, 4.7, 'm'],\n",
       "       [6.4, 2.9, 4.3, 'm'],\n",
       "       [6.6, 3.0, 4.4, 'm'],\n",
       "       [6.8, 2.8, 4.8, 'm'],\n",
       "       [6.7, 3.0, 5.0, 'l'],\n",
       "       [6.0, 2.9, 4.5, 'm'],\n",
       "       [5.7, 2.6, 3.5, 'm'],\n",
       "       [5.5, 2.4, 3.8, 'm'],\n",
       "       [5.5, 2.4, 3.7, 'm'],\n",
       "       [5.8, 2.7, 3.9, 'm'],\n",
       "       [6.0, 2.7, 5.1, 'm'],\n",
       "       [5.4, 3.0, 4.5, 'm'],\n",
       "       [6.0, 3.4, 4.5, 'm'],\n",
       "       [6.7, 3.1, 4.7, 'm'],\n",
       "       [6.3, 2.3, 4.4, 'm'],\n",
       "       [5.6, 3.0, 4.1, 'm'],\n",
       "       [5.5, 2.5, 4.0, 'm'],\n",
       "       [5.5, 2.6, 4.4, 'm'],\n",
       "       [6.1, 3.0, 4.6, 'm'],\n",
       "       [5.8, 2.6, 4.0, 'm'],\n",
       "       [5.0, 2.3, 3.3, 'm'],\n",
       "       [5.6, 2.7, 4.2, 'm'],\n",
       "       [5.7, 3.0, 4.2, 'm'],\n",
       "       [5.7, 2.9, 4.2, 'm'],\n",
       "       [6.2, 2.9, 4.3, 'm'],\n",
       "       [5.1, 2.5, 3.0, 'm'],\n",
       "       [5.7, 2.8, 4.1, 'm'],\n",
       "       [6.3, 3.3, 6.0, 'l'],\n",
       "       [5.8, 2.7, 5.1, 'l'],\n",
       "       [7.1, 3.0, 5.9, 'l'],\n",
       "       [6.3, 2.9, 5.6, 'l'],\n",
       "       [6.5, 3.0, 5.8, 'l'],\n",
       "       [7.6, 3.0, 6.6, 'l'],\n",
       "       [4.9, 2.5, 4.5, 'l'],\n",
       "       [7.3, 2.9, 6.3, 'l'],\n",
       "       [6.7, 2.5, 5.8, 'l'],\n",
       "       [7.2, 3.6, 6.1, 'l'],\n",
       "       [6.5, 3.2, 5.1, 'l'],\n",
       "       [6.4, 2.7, 5.3, 'l'],\n",
       "       [6.8, 3.0, 5.5, 'l'],\n",
       "       [5.7, 2.5, 5.0, 'l'],\n",
       "       [5.8, 2.8, 5.1, 'l'],\n",
       "       [6.4, 3.2, 5.3, 'l'],\n",
       "       [6.5, 3.0, 5.5, 'l'],\n",
       "       [7.7, 3.8, 6.7, 'l'],\n",
       "       [7.7, 2.6, 6.9, 'l'],\n",
       "       [6.0, 2.2, 5.0, 'm'],\n",
       "       [6.9, 3.2, 5.7, 'l'],\n",
       "       [5.6, 2.8, 4.9, 'l'],\n",
       "       [7.7, 2.8, 6.7, 'l'],\n",
       "       [6.3, 2.7, 4.9, 'l'],\n",
       "       [6.7, 3.3, 5.7, 'l'],\n",
       "       [7.2, 3.2, 6.0, 'l'],\n",
       "       [6.2, 2.8, 4.8, 'l'],\n",
       "       [6.1, 3.0, 4.9, 'l'],\n",
       "       [6.4, 2.8, 5.6, 'l'],\n",
       "       [7.2, 3.0, 5.8, 'm'],\n",
       "       [7.4, 2.8, 6.1, 'l'],\n",
       "       [7.9, 3.8, 6.4, 'l'],\n",
       "       [6.4, 2.8, 5.6, 'l'],\n",
       "       [6.3, 2.8, 5.1, 'm'],\n",
       "       [6.1, 2.6, 5.6, 'm'],\n",
       "       [7.7, 3.0, 6.1, 'l'],\n",
       "       [6.3, 3.4, 5.6, 'l'],\n",
       "       [6.4, 3.1, 5.5, 'l'],\n",
       "       [6.0, 3.0, 4.8, 'l'],\n",
       "       [6.9, 3.1, 5.4, 'l'],\n",
       "       [6.7, 3.1, 5.6, 'l'],\n",
       "       [6.9, 3.1, 5.1, 'l'],\n",
       "       [5.8, 2.7, 5.1, 'l'],\n",
       "       [6.8, 3.2, 5.9, 'l'],\n",
       "       [6.7, 3.3, 5.7, 'l'],\n",
       "       [6.7, 3.0, 5.2, 'l'],\n",
       "       [6.3, 2.5, 5.0, 'l'],\n",
       "       [6.5, 3.0, 5.2, 'l'],\n",
       "       [6.2, 3.4, 5.4, 'l'],\n",
       "       [5.9, 3.0, 5.1, 'l']], dtype=object)"
      ]
     },
     "execution_count": 18,
     "metadata": {},
     "output_type": "execute_result"
    }
   ],
   "source": [
    "copyX = X.copy()\n",
    "copyX = np.array(copyX, dtype=object)\n",
    "copyX[:, 3] = cat\n",
    "copyX"
   ]
  },
  {
   "cell_type": "code",
   "execution_count": 12,
   "metadata": {},
   "outputs": [],
   "source": [
    "XX_train, XX_test, yy_train, yy_test = model_selection.train_test_split(copyX, y)\n"
   ]
  },
  {
   "cell_type": "code",
   "execution_count": 13,
   "metadata": {},
   "outputs": [],
   "source": [
    "decision_tree = rf.DecisionTree(max_depth=100, min_leaf_size=1, n_candidates=100, criterion='gini')\n",
    "decision_tree.fit(XX_train, yy_train, feature_type=[0, 0, 0, 1])"
   ]
  },
  {
   "cell_type": "code",
   "execution_count": 14,
   "metadata": {},
   "outputs": [
    {
     "data": {
      "text/plain": [
       "array([array([6. , 6.7]), array([2.7, 3. ]), array([4.8, 5. ]),\n",
       "       array(['l', 'm'], dtype=object)], dtype=object)"
      ]
     },
     "execution_count": 14,
     "metadata": {},
     "output_type": "execute_result"
    }
   ],
   "source": [
    "decision_tree.data_range\n"
   ]
  },
  {
   "cell_type": "code",
   "execution_count": 15,
   "metadata": {},
   "outputs": [],
   "source": [
    "yy_predicted = decision_tree.predict(XX_test)"
   ]
  },
  {
   "cell_type": "code",
   "execution_count": 19,
   "metadata": {},
   "outputs": [
    {
     "data": {
      "text/plain": [
       "[<matplotlib.lines.Line2D at 0x131c8f6a0>]"
      ]
     },
     "execution_count": 19,
     "metadata": {},
     "output_type": "execute_result"
    },
    {
     "data": {
      "image/png": "[encoded data removed]",
      "text/plain": [
       "<Figure size 640x480 with 1 Axes>"
      ]
     },
     "metadata": {},
     "output_type": "display_data"
    }
   ],
   "source": [
    "from matplotlib import pyplot as plt\n",
    "\n",
    "xxs = [i for i in range(len(yy_test))]\n",
    "\n",
    "fig = plt.figure(1)\n",
    "plt.plot(xxs, yy_test, 'o')\n",
    "plt.plot(xxs, yy_predicted, 'x')"
   ]
  },
  {
   "cell_type": "code",
   "execution_count": null,
   "metadata": {},
   "outputs": [],
   "source": []
  }
 ],
 "metadata": {
  "kernelspec": {
   "display_name": "m2r_venv",
   "language": "python",
   "name": "python3"
  },
  "language_info": {
   "codemirror_mode": {
    "name": "ipython",
    "version": 3
   },
   "file_extension": ".py",
   "mimetype": "text/x-python",
   "name": "python",
   "nbconvert_exporter": "python",
   "pygments_lexer": "ipython3",
   "version": "3.8.9"
  },
  "orig_nbformat": 4
 },
 "nbformat": 4,
 "nbformat_minor": 2
}
