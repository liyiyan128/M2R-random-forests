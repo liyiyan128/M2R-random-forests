{
 "cells": [
  {
   "cell_type": "code",
   "execution_count": 1,
   "metadata": {},
   "outputs": [
    {
     "data": {
      "text/plain": [
       "{'data': array([[5.1, 3.5, 1.4, 0.2],\n",
       "        [4.9, 3. , 1.4, 0.2],\n",
       "        [4.7, 3.2, 1.3, 0.2],\n",
       "        [4.6, 3.1, 1.5, 0.2],\n",
       "        [5. , 3.6, 1.4, 0.2],\n",
       "        [5.4, 3.9, 1.7, 0.4],\n",
       "        [4.6, 3.4, 1.4, 0.3],\n",
       "        [5. , 3.4, 1.5, 0.2],\n",
       "        [4.4, 2.9, 1.4, 0.2],\n",
       "        [4.9, 3.1, 1.5, 0.1],\n",
       "        [5.4, 3.7, 1.5, 0.2],\n",
       "        [4.8, 3.4, 1.6, 0.2],\n",
       "        [4.8, 3. , 1.4, 0.1],\n",
       "        [4.3, 3. , 1.1, 0.1],\n",
       "        [5.8, 4. , 1.2, 0.2],\n",
       "        [5.7, 4.4, 1.5, 0.4],\n",
       "        [5.4, 3.9, 1.3, 0.4],\n",
       "        [5.1, 3.5, 1.4, 0.3],\n",
       "        [5.7, 3.8, 1.7, 0.3],\n",
       "        [5.1, 3.8, 1.5, 0.3],\n",
       "        [5.4, 3.4, 1.7, 0.2],\n",
       "        [5.1, 3.7, 1.5, 0.4],\n",
       "        [4.6, 3.6, 1. , 0.2],\n",
       "        [5.1, 3.3, 1.7, 0.5],\n",
       "        [4.8, 3.4, 1.9, 0.2],\n",
       "        [5. , 3. , 1.6, 0.2],\n",
       "        [5. , 3.4, 1.6, 0.4],\n",
       "        [5.2, 3.5, 1.5, 0.2],\n",
       "        [5.2, 3.4, 1.4, 0.2],\n",
       "        [4.7, 3.2, 1.6, 0.2],\n",
       "        [4.8, 3.1, 1.6, 0.2],\n",
       "        [5.4, 3.4, 1.5, 0.4],\n",
       "        [5.2, 4.1, 1.5, 0.1],\n",
       "        [5.5, 4.2, 1.4, 0.2],\n",
       "        [4.9, 3.1, 1.5, 0.2],\n",
       "        [5. , 3.2, 1.2, 0.2],\n",
       "        [5.5, 3.5, 1.3, 0.2],\n",
       "        [4.9, 3.6, 1.4, 0.1],\n",
       "        [4.4, 3. , 1.3, 0.2],\n",
       "        [5.1, 3.4, 1.5, 0.2],\n",
       "        [5. , 3.5, 1.3, 0.3],\n",
       "        [4.5, 2.3, 1.3, 0.3],\n",
       "        [4.4, 3.2, 1.3, 0.2],\n",
       "        [5. , 3.5, 1.6, 0.6],\n",
       "        [5.1, 3.8, 1.9, 0.4],\n",
       "        [4.8, 3. , 1.4, 0.3],\n",
       "        [5.1, 3.8, 1.6, 0.2],\n",
       "        [4.6, 3.2, 1.4, 0.2],\n",
       "        [5.3, 3.7, 1.5, 0.2],\n",
       "        [5. , 3.3, 1.4, 0.2],\n",
       "        [7. , 3.2, 4.7, 1.4],\n",
       "        [6.4, 3.2, 4.5, 1.5],\n",
       "        [6.9, 3.1, 4.9, 1.5],\n",
       "        [5.5, 2.3, 4. , 1.3],\n",
       "        [6.5, 2.8, 4.6, 1.5],\n",
       "        [5.7, 2.8, 4.5, 1.3],\n",
       "        [6.3, 3.3, 4.7, 1.6],\n",
       "        [4.9, 2.4, 3.3, 1. ],\n",
       "        [6.6, 2.9, 4.6, 1.3],\n",
       "        [5.2, 2.7, 3.9, 1.4],\n",
       "        [5. , 2. , 3.5, 1. ],\n",
       "        [5.9, 3. , 4.2, 1.5],\n",
       "        [6. , 2.2, 4. , 1. ],\n",
       "        [6.1, 2.9, 4.7, 1.4],\n",
       "        [5.6, 2.9, 3.6, 1.3],\n",
       "        [6.7, 3.1, 4.4, 1.4],\n",
       "        [5.6, 3. , 4.5, 1.5],\n",
       "        [5.8, 2.7, 4.1, 1. ],\n",
       "        [6.2, 2.2, 4.5, 1.5],\n",
       "        [5.6, 2.5, 3.9, 1.1],\n",
       "        [5.9, 3.2, 4.8, 1.8],\n",
       "        [6.1, 2.8, 4. , 1.3],\n",
       "        [6.3, 2.5, 4.9, 1.5],\n",
       "        [6.1, 2.8, 4.7, 1.2],\n",
       "        [6.4, 2.9, 4.3, 1.3],\n",
       "        [6.6, 3. , 4.4, 1.4],\n",
       "        [6.8, 2.8, 4.8, 1.4],\n",
       "        [6.7, 3. , 5. , 1.7],\n",
       "        [6. , 2.9, 4.5, 1.5],\n",
       "        [5.7, 2.6, 3.5, 1. ],\n",
       "        [5.5, 2.4, 3.8, 1.1],\n",
       "        [5.5, 2.4, 3.7, 1. ],\n",
       "        [5.8, 2.7, 3.9, 1.2],\n",
       "        [6. , 2.7, 5.1, 1.6],\n",
       "        [5.4, 3. , 4.5, 1.5],\n",
       "        [6. , 3.4, 4.5, 1.6],\n",
       "        [6.7, 3.1, 4.7, 1.5],\n",
       "        [6.3, 2.3, 4.4, 1.3],\n",
       "        [5.6, 3. , 4.1, 1.3],\n",
       "        [5.5, 2.5, 4. , 1.3],\n",
       "        [5.5, 2.6, 4.4, 1.2],\n",
       "        [6.1, 3. , 4.6, 1.4],\n",
       "        [5.8, 2.6, 4. , 1.2],\n",
       "        [5. , 2.3, 3.3, 1. ],\n",
       "        [5.6, 2.7, 4.2, 1.3],\n",
       "        [5.7, 3. , 4.2, 1.2],\n",
       "        [5.7, 2.9, 4.2, 1.3],\n",
       "        [6.2, 2.9, 4.3, 1.3],\n",
       "        [5.1, 2.5, 3. , 1.1],\n",
       "        [5.7, 2.8, 4.1, 1.3],\n",
       "        [6.3, 3.3, 6. , 2.5],\n",
       "        [5.8, 2.7, 5.1, 1.9],\n",
       "        [7.1, 3. , 5.9, 2.1],\n",
       "        [6.3, 2.9, 5.6, 1.8],\n",
       "        [6.5, 3. , 5.8, 2.2],\n",
       "        [7.6, 3. , 6.6, 2.1],\n",
       "        [4.9, 2.5, 4.5, 1.7],\n",
       "        [7.3, 2.9, 6.3, 1.8],\n",
       "        [6.7, 2.5, 5.8, 1.8],\n",
       "        [7.2, 3.6, 6.1, 2.5],\n",
       "        [6.5, 3.2, 5.1, 2. ],\n",
       "        [6.4, 2.7, 5.3, 1.9],\n",
       "        [6.8, 3. , 5.5, 2.1],\n",
       "        [5.7, 2.5, 5. , 2. ],\n",
       "        [5.8, 2.8, 5.1, 2.4],\n",
       "        [6.4, 3.2, 5.3, 2.3],\n",
       "        [6.5, 3. , 5.5, 1.8],\n",
       "        [7.7, 3.8, 6.7, 2.2],\n",
       "        [7.7, 2.6, 6.9, 2.3],\n",
       "        [6. , 2.2, 5. , 1.5],\n",
       "        [6.9, 3.2, 5.7, 2.3],\n",
       "        [5.6, 2.8, 4.9, 2. ],\n",
       "        [7.7, 2.8, 6.7, 2. ],\n",
       "        [6.3, 2.7, 4.9, 1.8],\n",
       "        [6.7, 3.3, 5.7, 2.1],\n",
       "        [7.2, 3.2, 6. , 1.8],\n",
       "        [6.2, 2.8, 4.8, 1.8],\n",
       "        [6.1, 3. , 4.9, 1.8],\n",
       "        [6.4, 2.8, 5.6, 2.1],\n",
       "        [7.2, 3. , 5.8, 1.6],\n",
       "        [7.4, 2.8, 6.1, 1.9],\n",
       "        [7.9, 3.8, 6.4, 2. ],\n",
       "        [6.4, 2.8, 5.6, 2.2],\n",
       "        [6.3, 2.8, 5.1, 1.5],\n",
       "        [6.1, 2.6, 5.6, 1.4],\n",
       "        [7.7, 3. , 6.1, 2.3],\n",
       "        [6.3, 3.4, 5.6, 2.4],\n",
       "        [6.4, 3.1, 5.5, 1.8],\n",
       "        [6. , 3. , 4.8, 1.8],\n",
       "        [6.9, 3.1, 5.4, 2.1],\n",
       "        [6.7, 3.1, 5.6, 2.4],\n",
       "        [6.9, 3.1, 5.1, 2.3],\n",
       "        [5.8, 2.7, 5.1, 1.9],\n",
       "        [6.8, 3.2, 5.9, 2.3],\n",
       "        [6.7, 3.3, 5.7, 2.5],\n",
       "        [6.7, 3. , 5.2, 2.3],\n",
       "        [6.3, 2.5, 5. , 1.9],\n",
       "        [6.5, 3. , 5.2, 2. ],\n",
       "        [6.2, 3.4, 5.4, 2.3],\n",
       "        [5.9, 3. , 5.1, 1.8]]),\n",
       " 'target': array([0, 0, 0, 0, 0, 0, 0, 0, 0, 0, 0, 0, 0, 0, 0, 0, 0, 0, 0, 0, 0, 0,\n",
       "        0, 0, 0, 0, 0, 0, 0, 0, 0, 0, 0, 0, 0, 0, 0, 0, 0, 0, 0, 0, 0, 0,\n",
       "        0, 0, 0, 0, 0, 0, 1, 1, 1, 1, 1, 1, 1, 1, 1, 1, 1, 1, 1, 1, 1, 1,\n",
       "        1, 1, 1, 1, 1, 1, 1, 1, 1, 1, 1, 1, 1, 1, 1, 1, 1, 1, 1, 1, 1, 1,\n",
       "        1, 1, 1, 1, 1, 1, 1, 1, 1, 1, 1, 1, 2, 2, 2, 2, 2, 2, 2, 2, 2, 2,\n",
       "        2, 2, 2, 2, 2, 2, 2, 2, 2, 2, 2, 2, 2, 2, 2, 2, 2, 2, 2, 2, 2, 2,\n",
       "        2, 2, 2, 2, 2, 2, 2, 2, 2, 2, 2, 2, 2, 2, 2, 2, 2, 2]),\n",
       " 'frame': None,\n",
       " 'target_names': array(['setosa', 'versicolor', 'virginica'], dtype='<U10'),\n",
       " 'DESCR': '.. _iris_dataset:\\n\\nIris plants dataset\\n--------------------\\n\\n**Data Set Characteristics:**\\n\\n    :Number of Instances: 150 (50 in each of three classes)\\n    :Number of Attributes: 4 numeric, predictive attributes and the class\\n    :Attribute Information:\\n        - sepal length in cm\\n        - sepal width in cm\\n        - petal length in cm\\n        - petal width in cm\\n        - class:\\n                - Iris-Setosa\\n                - Iris-Versicolour\\n                - Iris-Virginica\\n                \\n    :Summary Statistics:\\n\\n    ============== ==== ==== ======= ===== ====================\\n                    Min  Max   Mean    SD   Class Correlation\\n    ============== ==== ==== ======= ===== ====================\\n    sepal length:   4.3  7.9   5.84   0.83    0.7826\\n    sepal width:    2.0  4.4   3.05   0.43   -0.4194\\n    petal length:   1.0  6.9   3.76   1.76    0.9490  (high!)\\n    petal width:    0.1  2.5   1.20   0.76    0.9565  (high!)\\n    ============== ==== ==== ======= ===== ====================\\n\\n    :Missing Attribute Values: None\\n    :Class Distribution: 33.3% for each of 3 classes.\\n    :Creator: R.A. Fisher\\n    :Donor: Michael Marshall (MARSHALL%PLU@io.arc.nasa.gov)\\n    :Date: July, 1988\\n\\nThe famous Iris database, first used by Sir R.A. Fisher. The dataset is taken\\nfrom Fisher\\'s paper. Note that it\\'s the same as in R, but not as in the UCI\\nMachine Learning Repository, which has two wrong data points.\\n\\nThis is perhaps the best known database to be found in the\\npattern recognition literature.  Fisher\\'s paper is a classic in the field and\\nis referenced frequently to this day.  (See Duda & Hart, for example.)  The\\ndata set contains 3 classes of 50 instances each, where each class refers to a\\ntype of iris plant.  One class is linearly separable from the other 2; the\\nlatter are NOT linearly separable from each other.\\n\\n.. topic:: References\\n\\n   - Fisher, R.A. \"The use of multiple measurements in taxonomic problems\"\\n     Annual Eugenics, 7, Part II, 179-188 (1936); also in \"Contributions to\\n     Mathematical Statistics\" (John Wiley, NY, 1950).\\n   - Duda, R.O., & Hart, P.E. (1973) Pattern Classification and Scene Analysis.\\n     (Q327.D83) John Wiley & Sons.  ISBN 0-471-22361-1.  See page 218.\\n   - Dasarathy, B.V. (1980) \"Nosing Around the Neighborhood: A New System\\n     Structure and Classification Rule for Recognition in Partially Exposed\\n     Environments\".  IEEE Transactions on Pattern Analysis and Machine\\n     Intelligence, Vol. PAMI-2, No. 1, 67-71.\\n   - Gates, G.W. (1972) \"The Reduced Nearest Neighbor Rule\".  IEEE Transactions\\n     on Information Theory, May 1972, 431-433.\\n   - See also: 1988 MLC Proceedings, 54-64.  Cheeseman et al\"s AUTOCLASS II\\n     conceptual clustering system finds 3 classes in the data.\\n   - Many, many more ...',\n",
       " 'feature_names': ['sepal length (cm)',\n",
       "  'sepal width (cm)',\n",
       "  'petal length (cm)',\n",
       "  'petal width (cm)'],\n",
       " 'filename': 'iris.csv',\n",
       " 'data_module': 'sklearn.datasets.data'}"
      ]
     },
     "execution_count": 1,
     "metadata": {},
     "output_type": "execute_result"
    }
   ],
   "source": [
    "import numpy as np\n",
    "import sklearn as sk\n",
    "from sklearn.datasets import load_iris\n",
    "from sklearn import model_selection\n",
    "\n",
    "iris = load_iris()\n",
    "iris"
   ]
  },
  {
   "cell_type": "code",
   "execution_count": 2,
   "metadata": {},
   "outputs": [],
   "source": [
    "X = iris['data']\n",
    "y = iris['target']"
   ]
  },
  {
   "cell_type": "code",
   "execution_count": 3,
   "metadata": {},
   "outputs": [
    {
     "data": {
      "text/plain": [
       "(150, 4)"
      ]
     },
     "execution_count": 3,
     "metadata": {},
     "output_type": "execute_result"
    }
   ],
   "source": [
    "X.shape"
   ]
  },
  {
   "cell_type": "code",
   "execution_count": 4,
   "metadata": {},
   "outputs": [
    {
     "data": {
      "text/plain": [
       "((112, 4), (38, 4))"
      ]
     },
     "execution_count": 4,
     "metadata": {},
     "output_type": "execute_result"
    }
   ],
   "source": [
    "X_train, X_test, y_train, y_test = model_selection.train_test_split(X, y)\n",
    "X_train.shape, X_test.shape"
   ]
  },
  {
   "cell_type": "code",
   "execution_count": 5,
   "metadata": {},
   "outputs": [],
   "source": [
    "import importlib\n",
    "rf = importlib.import_module(\"random-forests\")"
   ]
  },
  {
   "cell_type": "code",
   "execution_count": 6,
   "metadata": {},
   "outputs": [],
   "source": [
    "decision_tree = rf.DecisionTree(max_depth=100, min_leaf_size=1, n_candidates=100, criterion='gini')"
   ]
  },
  {
   "cell_type": "code",
   "execution_count": 7,
   "metadata": {},
   "outputs": [
    {
     "ename": "ValueError",
     "evalue": "The truth value of an array with more than one element is ambiguous. Use a.any() or a.all()",
     "output_type": "error",
     "traceback": [
      "\u001b[1;31m---------------------------------------------------------------------------\u001b[0m",
      "\u001b[1;31mValueError\u001b[0m                                Traceback (most recent call last)",
      "Cell \u001b[1;32mIn[7], line 1\u001b[0m\n\u001b[1;32m----> 1\u001b[0m decision_tree\u001b[39m.\u001b[39;49mfit(X_train, y_train, feature_type\u001b[39m=\u001b[39;49m[\u001b[39m0\u001b[39;49m, \u001b[39m0\u001b[39;49m, \u001b[39m0\u001b[39;49m, \u001b[39m0\u001b[39;49m])\n",
      "File \u001b[1;32md:\\OneDrive - Imperial College London\\# Jupyter\\VS Code\\M2R\\M2R-random-forests\\random-forests\\decision_trees.py:96\u001b[0m, in \u001b[0;36mDecisionTree.fit\u001b[1;34m(self, X, y, data_range, feature_type)\u001b[0m\n\u001b[0;32m     93\u001b[0m         \u001b[39mexcept\u001b[39;00m \u001b[39mTypeError\u001b[39;00m:\n\u001b[0;32m     94\u001b[0m             \u001b[39mself\u001b[39m\u001b[39m.\u001b[39mdata_range[i] \u001b[39m=\u001b[39m np\u001b[39m.\u001b[39marray([X[:, i]\u001b[39m.\u001b[39mmin(), X[:, i]\u001b[39m.\u001b[39mmax()])\n\u001b[1;32m---> 96\u001b[0m \u001b[39mself\u001b[39m\u001b[39m.\u001b[39mtree \u001b[39m=\u001b[39m \u001b[39mself\u001b[39;49m\u001b[39m.\u001b[39;49m_grow(X, y)\n",
      "File \u001b[1;32md:\\OneDrive - Imperial College London\\# Jupyter\\VS Code\\M2R\\M2R-random-forests\\random-forests\\decision_trees.py:126\u001b[0m, in \u001b[0;36mDecisionTree._grow\u001b[1;34m(self, X, y, depth)\u001b[0m\n\u001b[0;32m    122\u001b[0m \u001b[39m# Increment depth and call _grow() recursively.\u001b[39;00m\n\u001b[0;32m    123\u001b[0m \u001b[39m# left_data = X[left_idx]\u001b[39;00m\n\u001b[0;32m    124\u001b[0m \u001b[39m# right_data = X[right_idx]\u001b[39;00m\n\u001b[0;32m    125\u001b[0m left_node \u001b[39m=\u001b[39m \u001b[39mself\u001b[39m\u001b[39m.\u001b[39m_grow(X[left_idx], y[left_idx], depth\u001b[39m+\u001b[39m\u001b[39m1\u001b[39m)\n\u001b[1;32m--> 126\u001b[0m right_node \u001b[39m=\u001b[39m \u001b[39mself\u001b[39;49m\u001b[39m.\u001b[39;49m_grow(X[right_idx], y[right_idx], depth\u001b[39m+\u001b[39;49m\u001b[39m1\u001b[39;49m)\n\u001b[0;32m    128\u001b[0m \u001b[39mreturn\u001b[39;00m Node(feature, threshold, left_node, right_node)\n",
      "File \u001b[1;32md:\\OneDrive - Imperial College London\\# Jupyter\\VS Code\\M2R\\M2R-random-forests\\random-forests\\decision_trees.py:126\u001b[0m, in \u001b[0;36mDecisionTree._grow\u001b[1;34m(self, X, y, depth)\u001b[0m\n\u001b[0;32m    122\u001b[0m \u001b[39m# Increment depth and call _grow() recursively.\u001b[39;00m\n\u001b[0;32m    123\u001b[0m \u001b[39m# left_data = X[left_idx]\u001b[39;00m\n\u001b[0;32m    124\u001b[0m \u001b[39m# right_data = X[right_idx]\u001b[39;00m\n\u001b[0;32m    125\u001b[0m left_node \u001b[39m=\u001b[39m \u001b[39mself\u001b[39m\u001b[39m.\u001b[39m_grow(X[left_idx], y[left_idx], depth\u001b[39m+\u001b[39m\u001b[39m1\u001b[39m)\n\u001b[1;32m--> 126\u001b[0m right_node \u001b[39m=\u001b[39m \u001b[39mself\u001b[39;49m\u001b[39m.\u001b[39;49m_grow(X[right_idx], y[right_idx], depth\u001b[39m+\u001b[39;49m\u001b[39m1\u001b[39;49m)\n\u001b[0;32m    128\u001b[0m \u001b[39mreturn\u001b[39;00m Node(feature, threshold, left_node, right_node)\n",
      "    \u001b[1;31m[... skipping similar frames: DecisionTree._grow at line 126 (97 times)]\u001b[0m\n",
      "File \u001b[1;32md:\\OneDrive - Imperial College London\\# Jupyter\\VS Code\\M2R\\M2R-random-forests\\random-forests\\decision_trees.py:126\u001b[0m, in \u001b[0;36mDecisionTree._grow\u001b[1;34m(self, X, y, depth)\u001b[0m\n\u001b[0;32m    122\u001b[0m \u001b[39m# Increment depth and call _grow() recursively.\u001b[39;00m\n\u001b[0;32m    123\u001b[0m \u001b[39m# left_data = X[left_idx]\u001b[39;00m\n\u001b[0;32m    124\u001b[0m \u001b[39m# right_data = X[right_idx]\u001b[39;00m\n\u001b[0;32m    125\u001b[0m left_node \u001b[39m=\u001b[39m \u001b[39mself\u001b[39m\u001b[39m.\u001b[39m_grow(X[left_idx], y[left_idx], depth\u001b[39m+\u001b[39m\u001b[39m1\u001b[39m)\n\u001b[1;32m--> 126\u001b[0m right_node \u001b[39m=\u001b[39m \u001b[39mself\u001b[39;49m\u001b[39m.\u001b[39;49m_grow(X[right_idx], y[right_idx], depth\u001b[39m+\u001b[39;49m\u001b[39m1\u001b[39;49m)\n\u001b[0;32m    128\u001b[0m \u001b[39mreturn\u001b[39;00m Node(feature, threshold, left_node, right_node)\n",
      "File \u001b[1;32md:\\OneDrive - Imperial College London\\# Jupyter\\VS Code\\M2R\\M2R-random-forests\\random-forests\\decision_trees.py:111\u001b[0m, in \u001b[0;36mDecisionTree._grow\u001b[1;34m(self, X, y, depth)\u001b[0m\n\u001b[0;32m    103\u001b[0m \u001b[39mdef\u001b[39;00m \u001b[39m_grow\u001b[39m(\u001b[39mself\u001b[39m, X, y, depth\u001b[39m=\u001b[39m\u001b[39m0\u001b[39m):\n\u001b[0;32m    104\u001b[0m     \u001b[39m# Stopping conditions.\u001b[39;00m\n\u001b[0;32m    105\u001b[0m     \u001b[39m# If depth >= math_depth,\u001b[39;00m\n\u001b[0;32m    106\u001b[0m     \u001b[39m# or leaf_size <= min_leaf_size,\u001b[39;00m\n\u001b[0;32m    107\u001b[0m     \u001b[39m# or if `y` contains only one unique label.\u001b[39;00m\n\u001b[0;32m    108\u001b[0m     \u001b[39mif\u001b[39;00m (depth \u001b[39m>\u001b[39m\u001b[39m=\u001b[39m \u001b[39mself\u001b[39m\u001b[39m.\u001b[39mmax_depth\n\u001b[0;32m    109\u001b[0m             \u001b[39mor\u001b[39;00m \u001b[39mlen\u001b[39m(y) \u001b[39m<\u001b[39m\u001b[39m=\u001b[39m \u001b[39mself\u001b[39m\u001b[39m.\u001b[39mmin_leaf_size\n\u001b[0;32m    110\u001b[0m             \u001b[39mor\u001b[39;00m \u001b[39mlen\u001b[39m(np\u001b[39m.\u001b[39munique(y)) \u001b[39m==\u001b[39m \u001b[39m1\u001b[39m):\n\u001b[1;32m--> 111\u001b[0m         \u001b[39mreturn\u001b[39;00m Node(data\u001b[39m=\u001b[39m\u001b[39mself\u001b[39;49m\u001b[39m.\u001b[39;49m_majority_vote(y))\n\u001b[0;32m    113\u001b[0m     \u001b[39m# Find the best splitting feature and threshhold\u001b[39;00m\n\u001b[0;32m    114\u001b[0m     \u001b[39m# using greedy approach\u001b[39;00m\n\u001b[0;32m    115\u001b[0m     feature, threshold \u001b[39m=\u001b[39m \u001b[39mself\u001b[39m\u001b[39m.\u001b[39m_cutpoint(X, y)\n",
      "File \u001b[1;32md:\\OneDrive - Imperial College London\\# Jupyter\\VS Code\\M2R\\M2R-random-forests\\random-forests\\decision_trees.py:212\u001b[0m, in \u001b[0;36mDecisionTree._majority_vote\u001b[1;34m(self, y)\u001b[0m\n\u001b[0;32m    207\u001b[0m \u001b[39m\u001b[39m\u001b[39m\"\"\"Return the most common label in `y`.\u001b[39;00m\n\u001b[0;32m    208\u001b[0m \n\u001b[0;32m    209\u001b[0m \u001b[39mIn case of a tie, choose randomly.\u001b[39;00m\n\u001b[0;32m    210\u001b[0m \u001b[39m\"\"\"\u001b[39;00m\n\u001b[0;32m    211\u001b[0m \u001b[39m# If y is empty.\u001b[39;00m\n\u001b[1;32m--> 212\u001b[0m \u001b[39mif\u001b[39;00m \u001b[39mnot\u001b[39;00m y:\n\u001b[0;32m    213\u001b[0m     \u001b[39mreturn\u001b[39;00m \u001b[39mNone\u001b[39;00m\n\u001b[0;32m    214\u001b[0m unique_labels, counts \u001b[39m=\u001b[39m np\u001b[39m.\u001b[39munique(y, return_counts\u001b[39m=\u001b[39m\u001b[39mTrue\u001b[39;00m)\n",
      "\u001b[1;31mValueError\u001b[0m: The truth value of an array with more than one element is ambiguous. Use a.any() or a.all()"
     ]
    }
   ],
   "source": [
    "decision_tree.fit(X_train, y_train, feature_type=[0, 0, 0, 0])"
   ]
  },
  {
   "cell_type": "code",
   "execution_count": null,
   "metadata": {},
   "outputs": [
    {
     "data": {
      "text/plain": [
       "array([array([4.4, 7.9]), array([2. , 4.1]), array([1. , 6.9]),\n",
       "       array([0.1, 2.5])], dtype=object)"
      ]
     },
     "execution_count": 8,
     "metadata": {},
     "output_type": "execute_result"
    }
   ],
   "source": [
    "decision_tree.data_range"
   ]
  },
  {
   "cell_type": "code",
   "execution_count": null,
   "metadata": {},
   "outputs": [
    {
     "data": {
      "text/plain": [
       "(3, 0.8954142843102639)"
      ]
     },
     "execution_count": 8,
     "metadata": {},
     "output_type": "execute_result"
    }
   ],
   "source": [
    "## __cutpoint test\n",
    "decision_tree._cutpoint(X_train, y_train)"
   ]
  },
  {
   "cell_type": "code",
   "execution_count": null,
   "metadata": {},
   "outputs": [],
   "source": [
    "X1 = X_train.copy()\n",
    "y1 = y_train.copy()"
   ]
  },
  {
   "cell_type": "code",
   "execution_count": null,
   "metadata": {},
   "outputs": [
    {
     "name": "stdout",
     "output_type": "stream",
     "text": [
      "(111, 4)\n"
     ]
    }
   ],
   "source": [
    "feature, threshold = decision_tree._cutpoint(X1, y1)\n",
    "left_idx = X1[:, feature] <= threshold\n",
    "right_idx = ~left_idx\n",
    "\n",
    "X2 = X1[left_idx]\n",
    "y2 = y1[left_idx]\n",
    "\n",
    "X1 = X2\n",
    "y1 = y2\n",
    "\n",
    "print(X1.shape)"
   ]
  },
  {
   "cell_type": "code",
   "execution_count": null,
   "metadata": {},
   "outputs": [
    {
     "name": "stdout",
     "output_type": "stream",
     "text": [
      "0\n",
      "1\n",
      "2\n",
      "3\n"
     ]
    }
   ],
   "source": [
    "best_score = None\n",
    "best_feature = None\n",
    "best_threshold = None\n",
    "\n",
    "for i in range(decision_tree.n_features):\n",
    "    # Categorical.\n",
    "    if decision_tree.feature_type[i]:\n",
    "        # Randomly choose thresholds of size=n_candidates.\n",
    "        thresholds = np.random.choice(decision_tree.data_range[i],\n",
    "                                      size=50)\n",
    "    # Otherwise continuous.\n",
    "    else:\n",
    "        lo, hi = decision_tree.data_range[i]\n",
    "        thresholds = np.random.uniform(lo, hi, size=50)\n",
    "\n",
    "    X_col = X2[:, i]\n",
    "    scores = np.array([decision_tree._criterion(X_col, y2, threshold)\n",
    "                      for threshold in thresholds])\n",
    "    score = scores.min()\n",
    "    threshold = thresholds[np.argmin(scores)]\n",
    "\n",
    "    # Initialise best_score.\n",
    "    if not best_score:\n",
    "        best_score = score\n",
    "    # If score is better than best_score.\n",
    "    if score <= best_score:\n",
    "        best_score = score\n",
    "        best_feature = i\n",
    "        best_threshold = threshold\n",
    "\n",
    "    print(i)\n"
   ]
  },
  {
   "cell_type": "code",
   "execution_count": null,
   "metadata": {},
   "outputs": [
    {
     "data": {
      "text/plain": [
       "2"
      ]
     },
     "execution_count": 14,
     "metadata": {},
     "output_type": "execute_result"
    }
   ],
   "source": [
    "## _majority_vote test\n",
    "decision_tree._majority_vote(y_train)"
   ]
  },
  {
   "cell_type": "code",
   "execution_count": null,
   "metadata": {},
   "outputs": [
    {
     "ename": "ValueError",
     "evalue": "zero-size array to reduction operation maximum which has no identity",
     "output_type": "error",
     "traceback": [
      "\u001b[1;31m---------------------------------------------------------------------------\u001b[0m",
      "\u001b[1;31mValueError\u001b[0m                                Traceback (most recent call last)",
      "Cell \u001b[1;32mIn[13], line 2\u001b[0m\n\u001b[0;32m      1\u001b[0m \u001b[39m## _grow test\u001b[39;00m\n\u001b[1;32m----> 2\u001b[0m decision_tree\u001b[39m.\u001b[39;49m_grow(X_train, y_train)\n",
      "File \u001b[1;32md:\\OneDrive - Imperial College London\\# Jupyter\\VS Code\\M2R\\M2R-random-forests\\random-forests\\decision_trees.py:127\u001b[0m, in \u001b[0;36mDecisionTree._grow\u001b[1;34m(self, X, y, depth)\u001b[0m\n\u001b[0;32m    122\u001b[0m right_idx \u001b[39m=\u001b[39m \u001b[39m~\u001b[39mleft_idx\n\u001b[0;32m    124\u001b[0m \u001b[39m# Increment depth and call _grow() recursively.\u001b[39;00m\n\u001b[0;32m    125\u001b[0m \u001b[39m# left_data = X[left_idx]\u001b[39;00m\n\u001b[0;32m    126\u001b[0m \u001b[39m# right_data = X[right_idx]\u001b[39;00m\n\u001b[1;32m--> 127\u001b[0m left_node \u001b[39m=\u001b[39m \u001b[39mself\u001b[39;49m\u001b[39m.\u001b[39;49m_grow(X[left_idx], y[left_idx], depth\u001b[39m+\u001b[39;49m\u001b[39m1\u001b[39;49m)\n\u001b[0;32m    128\u001b[0m right_node \u001b[39m=\u001b[39m \u001b[39mself\u001b[39m\u001b[39m.\u001b[39m_grow(X[right_idx], y[right_idx], depth\u001b[39m+\u001b[39m\u001b[39m1\u001b[39m)\n\u001b[0;32m    130\u001b[0m \u001b[39mreturn\u001b[39;00m Node(feature, threshold, left_node, right_node)\n",
      "File \u001b[1;32md:\\OneDrive - Imperial College London\\# Jupyter\\VS Code\\M2R\\M2R-random-forests\\random-forests\\decision_trees.py:127\u001b[0m, in \u001b[0;36mDecisionTree._grow\u001b[1;34m(self, X, y, depth)\u001b[0m\n\u001b[0;32m    122\u001b[0m right_idx \u001b[39m=\u001b[39m \u001b[39m~\u001b[39mleft_idx\n\u001b[0;32m    124\u001b[0m \u001b[39m# Increment depth and call _grow() recursively.\u001b[39;00m\n\u001b[0;32m    125\u001b[0m \u001b[39m# left_data = X[left_idx]\u001b[39;00m\n\u001b[0;32m    126\u001b[0m \u001b[39m# right_data = X[right_idx]\u001b[39;00m\n\u001b[1;32m--> 127\u001b[0m left_node \u001b[39m=\u001b[39m \u001b[39mself\u001b[39;49m\u001b[39m.\u001b[39;49m_grow(X[left_idx], y[left_idx], depth\u001b[39m+\u001b[39;49m\u001b[39m1\u001b[39;49m)\n\u001b[0;32m    128\u001b[0m right_node \u001b[39m=\u001b[39m \u001b[39mself\u001b[39m\u001b[39m.\u001b[39m_grow(X[right_idx], y[right_idx], depth\u001b[39m+\u001b[39m\u001b[39m1\u001b[39m)\n\u001b[0;32m    130\u001b[0m \u001b[39mreturn\u001b[39;00m Node(feature, threshold, left_node, right_node)\n",
      "    \u001b[1;31m[... skipping similar frames: DecisionTree._grow at line 127 (20 times)]\u001b[0m\n",
      "File \u001b[1;32md:\\OneDrive - Imperial College London\\# Jupyter\\VS Code\\M2R\\M2R-random-forests\\random-forests\\decision_trees.py:127\u001b[0m, in \u001b[0;36mDecisionTree._grow\u001b[1;34m(self, X, y, depth)\u001b[0m\n\u001b[0;32m    122\u001b[0m right_idx \u001b[39m=\u001b[39m \u001b[39m~\u001b[39mleft_idx\n\u001b[0;32m    124\u001b[0m \u001b[39m# Increment depth and call _grow() recursively.\u001b[39;00m\n\u001b[0;32m    125\u001b[0m \u001b[39m# left_data = X[left_idx]\u001b[39;00m\n\u001b[0;32m    126\u001b[0m \u001b[39m# right_data = X[right_idx]\u001b[39;00m\n\u001b[1;32m--> 127\u001b[0m left_node \u001b[39m=\u001b[39m \u001b[39mself\u001b[39;49m\u001b[39m.\u001b[39;49m_grow(X[left_idx], y[left_idx], depth\u001b[39m+\u001b[39;49m\u001b[39m1\u001b[39;49m)\n\u001b[0;32m    128\u001b[0m right_node \u001b[39m=\u001b[39m \u001b[39mself\u001b[39m\u001b[39m.\u001b[39m_grow(X[right_idx], y[right_idx], depth\u001b[39m+\u001b[39m\u001b[39m1\u001b[39m)\n\u001b[0;32m    130\u001b[0m \u001b[39mreturn\u001b[39;00m Node(feature, threshold, left_node, right_node)\n",
      "File \u001b[1;32md:\\OneDrive - Imperial College London\\# Jupyter\\VS Code\\M2R\\M2R-random-forests\\random-forests\\decision_trees.py:128\u001b[0m, in \u001b[0;36mDecisionTree._grow\u001b[1;34m(self, X, y, depth)\u001b[0m\n\u001b[0;32m    124\u001b[0m \u001b[39m# Increment depth and call _grow() recursively.\u001b[39;00m\n\u001b[0;32m    125\u001b[0m \u001b[39m# left_data = X[left_idx]\u001b[39;00m\n\u001b[0;32m    126\u001b[0m \u001b[39m# right_data = X[right_idx]\u001b[39;00m\n\u001b[0;32m    127\u001b[0m left_node \u001b[39m=\u001b[39m \u001b[39mself\u001b[39m\u001b[39m.\u001b[39m_grow(X[left_idx], y[left_idx], depth\u001b[39m+\u001b[39m\u001b[39m1\u001b[39m)\n\u001b[1;32m--> 128\u001b[0m right_node \u001b[39m=\u001b[39m \u001b[39mself\u001b[39;49m\u001b[39m.\u001b[39;49m_grow(X[right_idx], y[right_idx], depth\u001b[39m+\u001b[39;49m\u001b[39m1\u001b[39;49m)\n\u001b[0;32m    130\u001b[0m \u001b[39mreturn\u001b[39;00m Node(feature, threshold, left_node, right_node)\n",
      "File \u001b[1;32md:\\OneDrive - Imperial College London\\# Jupyter\\VS Code\\M2R\\M2R-random-forests\\random-forests\\decision_trees.py:127\u001b[0m, in \u001b[0;36mDecisionTree._grow\u001b[1;34m(self, X, y, depth)\u001b[0m\n\u001b[0;32m    122\u001b[0m right_idx \u001b[39m=\u001b[39m \u001b[39m~\u001b[39mleft_idx\n\u001b[0;32m    124\u001b[0m \u001b[39m# Increment depth and call _grow() recursively.\u001b[39;00m\n\u001b[0;32m    125\u001b[0m \u001b[39m# left_data = X[left_idx]\u001b[39;00m\n\u001b[0;32m    126\u001b[0m \u001b[39m# right_data = X[right_idx]\u001b[39;00m\n\u001b[1;32m--> 127\u001b[0m left_node \u001b[39m=\u001b[39m \u001b[39mself\u001b[39;49m\u001b[39m.\u001b[39;49m_grow(X[left_idx], y[left_idx], depth\u001b[39m+\u001b[39;49m\u001b[39m1\u001b[39;49m)\n\u001b[0;32m    128\u001b[0m right_node \u001b[39m=\u001b[39m \u001b[39mself\u001b[39m\u001b[39m.\u001b[39m_grow(X[right_idx], y[right_idx], depth\u001b[39m+\u001b[39m\u001b[39m1\u001b[39m)\n\u001b[0;32m    130\u001b[0m \u001b[39mreturn\u001b[39;00m Node(feature, threshold, left_node, right_node)\n",
      "File \u001b[1;32md:\\OneDrive - Imperial College London\\# Jupyter\\VS Code\\M2R\\M2R-random-forests\\random-forests\\decision_trees.py:127\u001b[0m, in \u001b[0;36mDecisionTree._grow\u001b[1;34m(self, X, y, depth)\u001b[0m\n\u001b[0;32m    122\u001b[0m right_idx \u001b[39m=\u001b[39m \u001b[39m~\u001b[39mleft_idx\n\u001b[0;32m    124\u001b[0m \u001b[39m# Increment depth and call _grow() recursively.\u001b[39;00m\n\u001b[0;32m    125\u001b[0m \u001b[39m# left_data = X[left_idx]\u001b[39;00m\n\u001b[0;32m    126\u001b[0m \u001b[39m# right_data = X[right_idx]\u001b[39;00m\n\u001b[1;32m--> 127\u001b[0m left_node \u001b[39m=\u001b[39m \u001b[39mself\u001b[39;49m\u001b[39m.\u001b[39;49m_grow(X[left_idx], y[left_idx], depth\u001b[39m+\u001b[39;49m\u001b[39m1\u001b[39;49m)\n\u001b[0;32m    128\u001b[0m right_node \u001b[39m=\u001b[39m \u001b[39mself\u001b[39m\u001b[39m.\u001b[39m_grow(X[right_idx], y[right_idx], depth\u001b[39m+\u001b[39m\u001b[39m1\u001b[39m)\n\u001b[0;32m    130\u001b[0m \u001b[39mreturn\u001b[39;00m Node(feature, threshold, left_node, right_node)\n",
      "File \u001b[1;32md:\\OneDrive - Imperial College London\\# Jupyter\\VS Code\\M2R\\M2R-random-forests\\random-forests\\decision_trees.py:110\u001b[0m, in \u001b[0;36mDecisionTree._grow\u001b[1;34m(self, X, y, depth)\u001b[0m\n\u001b[0;32m    108\u001b[0m \u001b[39m# Stop if leaf_size <= min_leaf_size.\u001b[39;00m\n\u001b[0;32m    109\u001b[0m \u001b[39mif\u001b[39;00m \u001b[39mlen\u001b[39m(y) \u001b[39m<\u001b[39m\u001b[39m=\u001b[39m \u001b[39mself\u001b[39m\u001b[39m.\u001b[39mmin_leaf_size:\n\u001b[1;32m--> 110\u001b[0m     \u001b[39mreturn\u001b[39;00m Node(data\u001b[39m=\u001b[39m\u001b[39mself\u001b[39;49m\u001b[39m.\u001b[39;49m_majority_vote(y))\n\u001b[0;32m    111\u001b[0m \u001b[39m# Stop if `y` contains only one unique label.\u001b[39;00m\n\u001b[0;32m    112\u001b[0m \u001b[39mif\u001b[39;00m \u001b[39mlen\u001b[39m(np\u001b[39m.\u001b[39munique(y)) \u001b[39m==\u001b[39m \u001b[39m1\u001b[39m:\n",
      "File \u001b[1;32md:\\OneDrive - Imperial College London\\# Jupyter\\VS Code\\M2R\\M2R-random-forests\\random-forests\\decision_trees.py:194\u001b[0m, in \u001b[0;36mDecisionTree._majority_vote\u001b[1;34m(self, y)\u001b[0m\n\u001b[0;32m    189\u001b[0m \u001b[39m\u001b[39m\u001b[39m\"\"\"Return the most common label in `y`.\u001b[39;00m\n\u001b[0;32m    190\u001b[0m \n\u001b[0;32m    191\u001b[0m \u001b[39mIn case of a tie, choose randomly.\u001b[39;00m\n\u001b[0;32m    192\u001b[0m \u001b[39m\"\"\"\u001b[39;00m\n\u001b[0;32m    193\u001b[0m unique_labels, counts \u001b[39m=\u001b[39m np\u001b[39m.\u001b[39munique(y, return_counts\u001b[39m=\u001b[39m\u001b[39mTrue\u001b[39;00m)\n\u001b[1;32m--> 194\u001b[0m max_count \u001b[39m=\u001b[39m counts\u001b[39m.\u001b[39;49mmax()\n\u001b[0;32m    195\u001b[0m max_indices \u001b[39m=\u001b[39m np\u001b[39m.\u001b[39mwhere(counts \u001b[39m==\u001b[39m max_count)[\u001b[39m0\u001b[39m]\n\u001b[0;32m    196\u001b[0m \u001b[39mif\u001b[39;00m \u001b[39mlen\u001b[39m(max_indices) \u001b[39m==\u001b[39m \u001b[39m1\u001b[39m:\n\u001b[0;32m    197\u001b[0m     \u001b[39m# Only one label with the maximum count, return it.\u001b[39;00m\n",
      "File \u001b[1;32md:\\OneDrive - Imperial College London\\# Jupyter\\VS Code\\M2R\\m2r_venv\\lib\\site-packages\\numpy\\core\\_methods.py:41\u001b[0m, in \u001b[0;36m_amax\u001b[1;34m(a, axis, out, keepdims, initial, where)\u001b[0m\n\u001b[0;32m     39\u001b[0m \u001b[39mdef\u001b[39;00m \u001b[39m_amax\u001b[39m(a, axis\u001b[39m=\u001b[39m\u001b[39mNone\u001b[39;00m, out\u001b[39m=\u001b[39m\u001b[39mNone\u001b[39;00m, keepdims\u001b[39m=\u001b[39m\u001b[39mFalse\u001b[39;00m,\n\u001b[0;32m     40\u001b[0m           initial\u001b[39m=\u001b[39m_NoValue, where\u001b[39m=\u001b[39m\u001b[39mTrue\u001b[39;00m):\n\u001b[1;32m---> 41\u001b[0m     \u001b[39mreturn\u001b[39;00m umr_maximum(a, axis, \u001b[39mNone\u001b[39;49;00m, out, keepdims, initial, where)\n",
      "\u001b[1;31mValueError\u001b[0m: zero-size array to reduction operation maximum which has no identity"
     ]
    }
   ],
   "source": [
    "## _grow test\n",
    "decision_tree._grow(X_train, y_train)"
   ]
  },
  {
   "cell_type": "code",
   "execution_count": null,
   "metadata": {},
   "outputs": [],
   "source": [
    "feature, threshold = decision_tree._cutpoint(X_train, y_train)\n",
    "left_idx = X[:, feature] <= threshold\n",
    "right_idx = ~left_idx\n",
    "\n"
   ]
  },
  {
   "cell_type": "code",
   "execution_count": null,
   "metadata": {},
   "outputs": [
    {
     "data": {
      "text/plain": [
       "0.0196"
      ]
     },
     "execution_count": 16,
     "metadata": {},
     "output_type": "execute_result"
    }
   ],
   "source": [
    "# gini_index test\n",
    "rf.decision_trees.gini_index(y)"
   ]
  },
  {
   "cell_type": "code",
   "execution_count": null,
   "metadata": {},
   "outputs": [],
   "source": []
  }
 ],
 "metadata": {
  "kernelspec": {
   "display_name": "m2r_venv",
   "language": "python",
   "name": "python3"
  },
  "language_info": {
   "codemirror_mode": {
    "name": "ipython",
    "version": 3
   },
   "file_extension": ".py",
   "mimetype": "text/x-python",
   "name": "python",
   "nbconvert_exporter": "python",
   "pygments_lexer": "ipython3",
   "version": "3.10.7"
  },
  "orig_nbformat": 4
 },
 "nbformat": 4,
 "nbformat_minor": 2
}
