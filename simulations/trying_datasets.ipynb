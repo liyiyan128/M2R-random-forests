{
 "cells": [
  {
   "cell_type": "code",
   "execution_count": 2,
   "metadata": {},
   "outputs": [],
   "source": [
    "import numpy as np\n",
    "import pandas as pd\n",
    "from sklearn.model_selection import train_test_split\n",
    "import matplotlib.pyplot as plt\n",
    "import importlib\n",
    "rf = importlib.import_module(\"random-forests\")\n",
    "mushroom = np.loadtxt(\"agaricus-lepiota.data\", dtype=str, delimiter=\",\")\n",
    "wine = np.loadtxt(\"wine.data\", delimiter=\",\")\n",
    "iris = np.loadtxt(\"iris_csv.csv\", dtype=str, delimiter=\",\")\n",
    "heart = np.loadtxt(\"processed.cleveland.data\", dtype=str, delimiter=\",\")\n",
    "\n"
   ]
  },
  {
   "attachments": {},
   "cell_type": "markdown",
   "metadata": {},
   "source": [
    "Clean data by removing entries with missing values denoted \"?\" and separate into data and labels"
   ]
  },
  {
   "cell_type": "code",
   "execution_count": 3,
   "metadata": {},
   "outputs": [],
   "source": [
    "def str_in_arr(arr, str):\n",
    "    return not np.isin(str, arr)"
   ]
  },
  {
   "cell_type": "code",
   "execution_count": 4,
   "metadata": {},
   "outputs": [],
   "source": [
    "barr_mushroom = np.apply_along_axis(str_in_arr, 1, mushroom, \"?\")\n",
    "mushroom = mushroom[barr_mushroom, :]\n",
    "barr_heart = np.apply_along_axis(str_in_arr, 1, heart, \"?\")\n",
    "heart = heart[barr_heart, :]"
   ]
  },
  {
   "cell_type": "code",
   "execution_count": 5,
   "metadata": {},
   "outputs": [],
   "source": [
    "heart = heart.astype(float)"
   ]
  },
  {
   "cell_type": "code",
   "execution_count": 6,
   "metadata": {},
   "outputs": [],
   "source": [
    "iris_data = iris[1:, :4].astype(float)\n",
    "iris_labels = iris[1:, 4]"
   ]
  },
  {
   "cell_type": "code",
   "execution_count": 7,
   "metadata": {},
   "outputs": [],
   "source": [
    "wine_data = wine[:, 1:]\n",
    "wine_labels = wine[:, 0].astype(int)"
   ]
  },
  {
   "cell_type": "code",
   "execution_count": 8,
   "metadata": {},
   "outputs": [],
   "source": [
    "heart_data = heart[:, :-1]\n",
    "heart_labels = heart[:, -1].astype(int)\n",
    "# Turn heart_labels into array of 0, 1.\n",
    "# 1 indicates presence of any type of heart disease, 0 indicates no presence\n",
    "heart_labels_barr = heart_labels >= 1\n",
    "heart_labels[heart_labels_barr] = 1"
   ]
  },
  {
   "cell_type": "code",
   "execution_count": 9,
   "metadata": {},
   "outputs": [],
   "source": [
    "mushroom_data = mushroom[:, 1:]\n",
    "mushroom_labels = mushroom[:, 0]"
   ]
  },
  {
   "cell_type": "code",
   "execution_count": 10,
   "metadata": {},
   "outputs": [],
   "source": [
    "misclass_rate = rf.random_forests.misclassification_rate"
   ]
  },
  {
   "cell_type": "code",
   "execution_count": 11,
   "metadata": {},
   "outputs": [],
   "source": [
    "# Split into test and train samples\n",
    "# For wine\n",
    "X_w_train, X_w_test, y_w_train, y_w_test = train_test_split(\n",
    "    wine_data, wine_labels, stratify=wine_labels)\n",
    "# For heart\n",
    "X_h_train, X_h_test, y_h_train, y_h_test = train_test_split(\n",
    "    heart_data, heart_labels, stratify=heart_labels)\n",
    "# For mushrooms\n",
    "X_m_train, X_m_test, y_m_train, y_m_test = train_test_split(\n",
    "    mushroom_data, mushroom_labels, stratify=mushroom_labels)\n",
    "# For iris\n",
    "X_i_train, X_i_test, y_i_train, y_i_test = train_test_split(\n",
    "    iris_data, iris_labels, stratify=iris_labels)"
   ]
  },
  {
   "cell_type": "code",
   "execution_count": 12,
   "metadata": {},
   "outputs": [],
   "source": [
    "heart_ftype = np.array([0, 1, 1, 0, 0, 1, 1, 0, 1, 0, 1, 0, 1])\n",
    "rf_heart = rf.RandomForest(n_trees=100, n_candidates=30, max_depth=10)\n",
    "rf_heart.fit(X_h_train, y_h_train, feature_type=heart_ftype, m_features=4)"
   ]
  },
  {
   "cell_type": "code",
   "execution_count": 13,
   "metadata": {},
   "outputs": [
    {
     "data": {
      "text/plain": [
       "0.18666666666666668"
      ]
     },
     "execution_count": 13,
     "metadata": {},
     "output_type": "execute_result"
    }
   ],
   "source": [
    "misclass_rate(rf_heart.predict(X_h_test), y_h_test)"
   ]
  },
  {
   "cell_type": "code",
   "execution_count": 133,
   "metadata": {},
   "outputs": [],
   "source": [
    "rf_wine = rf.RandomForest(n_trees=100, n_candidates=10, max_depth=1)\n",
    "rf_wine.fit(X_w_train, y_w_train, feature_type=\"continuous\", m_features=3)"
   ]
  },
  {
   "cell_type": "code",
   "execution_count": 134,
   "metadata": {},
   "outputs": [
    {
     "data": {
      "text/plain": [
       "0.6"
      ]
     },
     "execution_count": 134,
     "metadata": {},
     "output_type": "execute_result"
    }
   ],
   "source": [
    "misclass_rate(rf_wine.predict(X_w_test), y_w_test)"
   ]
  },
  {
   "cell_type": "code",
   "execution_count": 139,
   "metadata": {},
   "outputs": [],
   "source": [
    "# Create an example plot for n_trees = 1-10 with error bars\n",
    "ntrees = np.arange(1, 11)\n",
    "# number of experiments to run for each parameter choice\n",
    "nexp = 10\n",
    "datasets = {\"iris\": (X_i_train, X_i_test, y_i_train, y_i_test, \"continuous\"),\n",
    "            \"mushroom\": (X_m_train, X_m_test, y_m_train, y_m_test, \"categorical\"),\n",
    "            \"heart\": (X_h_train, X_h_test, y_h_train, y_h_test, heart_ftype),\n",
    "            \"wine\": (X_w_train, X_w_test, y_w_train, y_w_test, \"continuous\")}\n",
    "results = {}\n",
    "for dataset in datasets.keys():\n",
    "    X_train, X_test, y_train, y_test, ftype= datasets[dataset]\n",
    "    result = np.empty((len(ntrees), nexp), dtype=float)\n",
    "    for i, ntree in enumerate(ntrees):\n",
    "        for j in range(nexp):\n",
    "            random_forest = rf.RandomForest(n_trees=ntree, n_candidates=10, max_depth=10)\n",
    "            random_forest.fit(X_train, y_train, feature_type=ftype, m_features=2)\n",
    "            result[i, j] = misclass_rate(random_forest.predict(X_test), y_test)\n",
    "    results[dataset] = result\n"
   ]
  },
  {
   "cell_type": "code",
   "execution_count": 141,
   "metadata": {},
   "outputs": [],
   "source": [
    "import pickle\n",
    "po = open(\"results_test_plots.pickle\", \"wb\")\n",
    "pickle.dump(results, po)\n",
    "po.close()"
   ]
  },
  {
   "cell_type": "code",
   "execution_count": 143,
   "metadata": {},
   "outputs": [],
   "source": [
    "def comp_mean_sd(arr):\n",
    "    return np.array([np.mean(arr), np.std(arr)])"
   ]
  },
  {
   "cell_type": "code",
   "execution_count": 144,
   "metadata": {},
   "outputs": [],
   "source": [
    "mean_sd = {}\n",
    "for dataset in results.keys():\n",
    "    mean_sd[dataset] = np.apply_along_axis(comp_mean_sd, 1, results[dataset])"
   ]
  },
  {
   "cell_type": "code",
   "execution_count": 156,
   "metadata": {},
   "outputs": [
    {
     "data": {
      "text/plain": [
       "<matplotlib.legend.Legend at 0x238526a4490>"
      ]
     },
     "execution_count": 156,
     "metadata": {},
     "output_type": "execute_result"
    },
    {
     "data": {
      "image/png": "[encoded data removed]",
      "text/plain": [
       "<Figure size 640x480 with 1 Axes>"
      ]
     },
     "metadata": {},
     "output_type": "display_data"
    }
   ],
   "source": [
    "for dataset, m_sd in mean_sd.items():\n",
    "    plt.errorbar(ntrees, m_sd[:, 0], yerr=m_sd[:, 1]/np.sqrt(nexp), label=dataset, capsize=5, fmt=\"o-\")\n",
    "plt.xlabel(\"n_trees\")\n",
    "plt.ylabel(\"Misclassification rate\")\n",
    "plt.title(\"Effect of varying n_trees on misclassification rate\")\n",
    "plt.legend()"
   ]
  },
  {
   "cell_type": "code",
   "execution_count": 14,
   "metadata": {},
   "outputs": [
    {
     "data": {
      "text/plain": [
       "(178, 13)"
      ]
     },
     "execution_count": 14,
     "metadata": {},
     "output_type": "execute_result"
    }
   ],
   "source": [
    "wine_data.shape"
   ]
  },
  {
   "cell_type": "code",
   "execution_count": 15,
   "metadata": {},
   "outputs": [
    {
     "data": {
      "text/plain": [
       "(297, 13)"
      ]
     },
     "execution_count": 15,
     "metadata": {},
     "output_type": "execute_result"
    }
   ],
   "source": [
    "heart_data.shape"
   ]
  },
  {
   "cell_type": "code",
   "execution_count": 16,
   "metadata": {},
   "outputs": [
    {
     "data": {
      "text/plain": [
       "(5644, 22)"
      ]
     },
     "execution_count": 16,
     "metadata": {},
     "output_type": "execute_result"
    }
   ],
   "source": [
    "mushroom_data.shape"
   ]
  },
  {
   "cell_type": "code",
   "execution_count": 17,
   "metadata": {},
   "outputs": [
    {
     "data": {
      "text/plain": [
       "(178, 13)"
      ]
     },
     "execution_count": 17,
     "metadata": {},
     "output_type": "execute_result"
    }
   ],
   "source": [
    "wine_data.shape"
   ]
  },
  {
   "cell_type": "code",
   "execution_count": null,
   "metadata": {},
   "outputs": [],
   "source": []
  }
 ],
 "metadata": {
  "kernelspec": {
   "display_name": "M2R_venv",
   "language": "python",
   "name": "python3"
  },
  "language_info": {
   "codemirror_mode": {
    "name": "ipython",
    "version": 3
   },
   "file_extension": ".py",
   "mimetype": "text/x-python",
   "name": "python",
   "nbconvert_exporter": "python",
   "pygments_lexer": "ipython3",
   "version": "3.11.1"
  },
  "orig_nbformat": 4
 },
 "nbformat": 4,
 "nbformat_minor": 2
}
