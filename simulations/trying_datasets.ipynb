{
 "cells": [
  {
   "cell_type": "code",
   "execution_count": 73,
   "metadata": {},
   "outputs": [],
   "source": [
    "import numpy as np\n",
    "import pandas as pd\n",
    "from sklearn.model_selection import train_test_split\n",
    "import matplotlib.pyplot as plt\n",
    "import importlib\n",
    "rf = importlib.import_module(\"random-forests\")\n",
    "mushroom = np.loadtxt(\"agaricus-lepiota.data\", dtype=str, delimiter=\",\")\n",
    "wine = np.loadtxt(\"wine.data\", delimiter=\",\")\n",
    "iris = np.loadtxt(\"iris_csv.csv\", dtype=str, delimiter=\",\")\n",
    "heart = np.loadtxt(\"processed.cleveland.data\", dtype=str, delimiter=\",\")\n",
    "\n"
   ]
  },
  {
   "attachments": {},
   "cell_type": "markdown",
   "metadata": {},
   "source": [
    "Clean data by removing entries with missing values denoted \"?\" and separate into data and labels"
   ]
  },
  {
   "cell_type": "code",
   "execution_count": 74,
   "metadata": {},
   "outputs": [],
   "source": [
    "def str_in_arr(arr, str):\n",
    "    return not np.isin(str, arr)"
   ]
  },
  {
   "cell_type": "code",
   "execution_count": 75,
   "metadata": {},
   "outputs": [],
   "source": [
    "barr_mushroom = np.apply_along_axis(str_in_arr, 1, mushroom, \"?\")\n",
    "mushroom = mushroom[barr_mushroom, :]\n",
    "barr_heart = np.apply_along_axis(str_in_arr, 1, heart, \"?\")\n",
    "heart = heart[barr_heart, :]"
   ]
  },
  {
   "cell_type": "code",
   "execution_count": 76,
   "metadata": {},
   "outputs": [],
   "source": [
    "heart = heart.astype(float)"
   ]
  },
  {
   "cell_type": "code",
   "execution_count": 82,
   "metadata": {},
   "outputs": [],
   "source": [
    "iris_data = iris[1:, :4].astype(float)\n",
    "iris_labels = iris[1:, 4]"
   ]
  },
  {
   "cell_type": "code",
   "execution_count": 86,
   "metadata": {},
   "outputs": [],
   "source": [
    "wine_data = wine[:, 1:]\n",
    "wine_labels = wine[:, 0].astype(int)"
   ]
  },
  {
   "cell_type": "code",
   "execution_count": 93,
   "metadata": {},
   "outputs": [],
   "source": [
    "heart_data = heart[:, :-1]\n",
    "heart_labels = heart[:, -1].astype(int)\n",
    "# Turn heart_labels into array of 0, 1.\n",
    "# 1 indicates presence of any type of heart disease, 0 indicates no presence\n",
    "heart_labels_barr = heart_labels >= 1\n",
    "heart_labels[heart_labels_barr] = 1"
   ]
  },
  {
   "cell_type": "code",
   "execution_count": 101,
   "metadata": {},
   "outputs": [],
   "source": [
    "mushroom_data = mushroom[:, 1:]\n",
    "mushroom_labels = mushroom[:, 0]"
   ]
  },
  {
   "cell_type": "code",
   "execution_count": 100,
   "metadata": {},
   "outputs": [],
   "source": [
    "misclass_rate = rf.random_forests.misclassification_rate"
   ]
  },
  {
   "cell_type": "code",
   "execution_count": 106,
   "metadata": {},
   "outputs": [],
   "source": [
    "# Split into test and train samples\n",
    "# For wine\n",
    "X_w_train, X_w_test, y_w_train, y_w_test = train_test_split(\n",
    "    wine_data, wine_labels, stratify=wine_labels)\n",
    "# For heart\n",
    "X_h_train, X_h_test, y_h_train, y_h_test = train_test_split(\n",
    "    heart_data, heart_labels, stratify=heart_labels)\n",
    "# For mushrooms\n",
    "X_m_train, X_m_test, y_m_train, y_m_test = train_test_split(\n",
    "    mushroom_data, mushroom_labels, stratify=mushroom_labels)\n",
    "# For iris\n",
    "X_i_train, X_i_test, y_i_train, y_i_test = train_test_split(\n",
    "    iris_data, iris_labels, stratify=iris_labels)"
   ]
  },
  {
   "cell_type": "code",
   "execution_count": 112,
   "metadata": {},
   "outputs": [],
   "source": [
    "heart_ftype = np.array([0, 1, 1, 0, 0, 1, 1, 0, 1, 0, 1, 0, 1])\n",
    "rf_heart = rf.RandomForest(n_trees=1, n_candidates=1)\n",
    "rf_heart.fit(X_h_train, y_h_train, feature_type=heart_ftype, m_features=4)"
   ]
  },
  {
   "cell_type": "code",
   "execution_count": 113,
   "metadata": {},
   "outputs": [
    {
     "data": {
      "text/plain": [
       "0.30666666666666664"
      ]
     },
     "execution_count": 113,
     "metadata": {},
     "output_type": "execute_result"
    }
   ],
   "source": [
    "misclass_rate(rf_heart.predict(X_h_test), y_h_test)"
   ]
  },
  {
   "cell_type": "code",
   "execution_count": null,
   "metadata": {},
   "outputs": [],
   "source": []
  }
 ],
 "metadata": {
  "kernelspec": {
   "display_name": "M2R_venv",
   "language": "python",
   "name": "python3"
  },
  "language_info": {
   "codemirror_mode": {
    "name": "ipython",
    "version": 3
   },
   "file_extension": ".py",
   "mimetype": "text/x-python",
   "name": "python",
   "nbconvert_exporter": "python",
   "pygments_lexer": "ipython3",
   "version": "3.11.1"
  },
  "orig_nbformat": 4
 },
 "nbformat": 4,
 "nbformat_minor": 2
}
