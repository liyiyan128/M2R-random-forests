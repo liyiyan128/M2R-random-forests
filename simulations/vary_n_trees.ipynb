{
 "cells": [
  {
   "cell_type": "code",
   "execution_count": 39,
   "metadata": {},
   "outputs": [],
   "source": [
    "# Copy this file and then run an experiment\n",
    "# Import modules\n",
    "import numpy as np\n",
    "import pandas as pd\n",
    "from sklearn.model_selection import train_test_split\n",
    "import matplotlib.pyplot as plt\n",
    "import importlib\n",
    "import pickle  # Use this to save results so we don't need to rerun experiments\n",
    "rf = importlib.import_module(\"random-forests\")\n",
    "misclass_rate = rf.random_forests.misclassification_rate\n",
    "cmap = {\"iris\": \"blue\", \"wine\": \"purple\", \"heart\": \"red\", \"titanic\": \"green\", \"breast\": \"orange\"}\n",
    "def comp_mean_sd(arr):\n",
    "    return np.array([np.mean(arr), np.std(arr)])\n",
    "def get_mean_sd(results):\n",
    "    ret = {}\n",
    "    for k in results.keys():\n",
    "        ret[k] = np.apply_along_axis(comp_mean_sd, 1, results[k])\n",
    "    return ret"
   ]
  },
  {
   "cell_type": "code",
   "execution_count": 24,
   "metadata": {},
   "outputs": [],
   "source": [
    "# Load all datasets to use\n",
    "mushroom = np.loadtxt(\"agaricus-lepiota.data\", dtype=str, delimiter=\",\")\n",
    "wine = np.loadtxt(\"wine.data\", delimiter=\",\")\n",
    "iris = np.loadtxt(\"iris_csv.csv\", dtype=str, delimiter=\",\")\n",
    "heart = np.loadtxt(\"processed.cleveland.data\", dtype=str, delimiter=\",\")\n",
    "titanic = pd.read_csv(\"titanic.csv\").drop(columns=[\"PassengerId\", \"Name\", \"Ticket\", \"Cabin\"]).dropna()\n",
    "breast = np.loadtxt(\"breast-cancer.data\", delimiter=\",\", dtype=str)"
   ]
  },
  {
   "cell_type": "code",
   "execution_count": 25,
   "metadata": {},
   "outputs": [],
   "source": [
    "# Clean data\n",
    "def str_in_arr(arr, str):\n",
    "    return not np.isin(str, arr)\n",
    "barr_mushroom = np.apply_along_axis(str_in_arr, 1, mushroom, \"?\")\n",
    "mushroom = mushroom[barr_mushroom, :]\n",
    "barr_breast = np.apply_along_axis(str_in_arr, 1, breast, \"?\")\n",
    "breast = breast[barr_breast, :]\n",
    "barr_heart = np.apply_along_axis(str_in_arr, 1, heart, \"?\")\n",
    "heart = heart[barr_heart, :]\n",
    "heart = heart.astype(float)"
   ]
  },
  {
   "cell_type": "code",
   "execution_count": 26,
   "metadata": {},
   "outputs": [],
   "source": [
    "# Separate into data and labels\n",
    "iris_data = iris[1:, :4].astype(float)\n",
    "iris_labels = iris[1:, 4]\n",
    "wine_data = wine[:, 1:]\n",
    "wine_labels = wine[:, 0].astype(int)\n",
    "heart_data = heart[:, :-1]\n",
    "heart_labels = heart[:, -1].astype(int)\n",
    "# Turn heart_labels into array of 0, 1.\n",
    "# 1 indicates presence of any type of heart disease, 0 indicates no presence\n",
    "heart_labels_barr = heart_labels >= 1\n",
    "heart_labels[heart_labels_barr] = 1\n",
    "mushroom_data = mushroom[:, 1:]\n",
    "mushroom_labels = mushroom[:, 0]\n",
    "breast_data = breast[:, 1:]\n",
    "breast_labels = breast[:, 0]\n",
    "titanic_data = titanic.loc[:, titanic.columns!=\"Survived\"].to_numpy()  # feature_type: complex\n",
    "titanic_labels = titanic[\"Survived\"].to_numpy()"
   ]
  },
  {
   "cell_type": "code",
   "execution_count": 27,
   "metadata": {},
   "outputs": [],
   "source": [
    "# Record the feature types\n",
    "iris_ftype = \"continuous\"\n",
    "heart_ftype = np.array([0, 1, 1, 0, 0, 1, 1, 0, 1, 0, 1, 0, 1])\n",
    "wine_ftype = \"continuous\"\n",
    "mushroom_ftype = \"categorical\"\n",
    "breast_ftype = \"categorical\"\n",
    "titanic_ftype = np.array([1, 1, 0, 0, 0, 0, 1])"
   ]
  },
  {
   "cell_type": "code",
   "execution_count": 28,
   "metadata": {},
   "outputs": [],
   "source": [
    "# Set the seed so test train split it always the same for all tests\n",
    "np.random.seed(1)\n",
    "datasets = {\"iris\": (*train_test_split(iris_data, iris_labels, stratify=iris_labels), \"continuous\"),\n",
    "            \"wine\": (*train_test_split(wine_data, wine_labels, stratify=wine_labels), \"continuous\"),\n",
    "            \"heart\": (*train_test_split(heart_data, heart_labels, stratify=heart_labels), heart_ftype),\n",
    "            \"mushroom\": (*train_test_split(mushroom_data, mushroom_labels, stratify=mushroom_labels), \"categorical\"),\n",
    "            \"titanic\": (*train_test_split(titanic_data, titanic_labels, stratify=titanic_labels), titanic_ftype),\n",
    "            \"breast\" : (*train_test_split(breast_data, breast_labels, stratify=breast_labels), \"categorical\")}"
   ]
  },
  {
   "cell_type": "code",
   "execution_count": 10,
   "metadata": {},
   "outputs": [],
   "source": [
    "# Create an example plot for n_trees = 1-20 with error bars\n",
    "ntrees = np.arange(1, 21)\n",
    "# number of experiments to run for each parameter choice\n",
    "nexp = 10\n",
    "results = {}"
   ]
  },
  {
   "cell_type": "code",
   "execution_count": 63,
   "metadata": {},
   "outputs": [],
   "source": [
    "dataset = \"iris\"\n",
    "X_train, X_test, y_train, y_test, ftype = datasets[dataset]\n",
    "result = np.empty((len(ntrees), nexp), dtype=float)\n",
    "m_feats = int(np.floor(np.sqrt(X_train.shape[1])))\n",
    "n_cand = 3*m_feats\n",
    "np.random.seed(1)\n",
    "for i, ntree in enumerate(ntrees):\n",
    "    for j in range(nexp):\n",
    "        random_forest = rf.RandomForest(n_trees=ntree, n_candidates=n_cand, max_depth=100)\n",
    "        random_forest.fit(X_train, y_train, feature_type=ftype, m_features=m_feats)\n",
    "        result[i, j] = misclass_rate(random_forest.predict(X_test), y_test)\n",
    "results[dataset] = result"
   ]
  },
  {
   "cell_type": "code",
   "execution_count": 68,
   "metadata": {},
   "outputs": [],
   "source": [
    "dataset = \"wine\"\n",
    "X_train, X_test, y_train, y_test, ftype = datasets[dataset]\n",
    "result = np.empty((len(ntrees), nexp), dtype=float)\n",
    "m_feats = int(np.floor(np.sqrt(X_train.shape[1])))\n",
    "n_cand = 3*m_feats\n",
    "np.random.seed(1)\n",
    "for i, ntree in enumerate(ntrees):\n",
    "    for j in range(nexp):\n",
    "        random_forest = rf.RandomForest(n_trees=ntree, n_candidates=n_cand, max_depth=100)\n",
    "        random_forest.fit(X_train, y_train, feature_type=ftype, m_features=m_feats)\n",
    "        result[i, j] = misclass_rate(random_forest.predict(X_test), y_test)\n",
    "results[dataset] = result"
   ]
  },
  {
   "cell_type": "code",
   "execution_count": 70,
   "metadata": {},
   "outputs": [],
   "source": [
    "dataset = \"heart\"\n",
    "X_train, X_test, y_train, y_test, ftype = datasets[dataset]\n",
    "result = np.empty((len(ntrees), nexp), dtype=float)\n",
    "m_feats = int(np.floor(np.sqrt(X_train.shape[1])))\n",
    "n_cand = 3*m_feats\n",
    "np.random.seed(1)\n",
    "for i, ntree in enumerate(ntrees):\n",
    "    for j in range(nexp):\n",
    "        random_forest = rf.RandomForest(n_trees=ntree, n_candidates=n_cand, max_depth=100)\n",
    "        random_forest.fit(X_train, y_train, feature_type=ftype, m_features=m_feats)\n",
    "        result[i, j] = misclass_rate(random_forest.predict(X_test), y_test)\n",
    "results[dataset] = result"
   ]
  },
  {
   "cell_type": "code",
   "execution_count": 76,
   "metadata": {},
   "outputs": [],
   "source": [
    "dataset = \"titanic\"\n",
    "X_train, X_test, y_train, y_test, ftype = datasets[dataset]\n",
    "result = np.empty((len(ntrees), nexp), dtype=float)\n",
    "m_feats = int(np.floor(np.sqrt(X_train.shape[1])))\n",
    "n_cand = 3*m_feats\n",
    "np.random.seed(1)\n",
    "for i, ntree in enumerate(ntrees):\n",
    "    for j in range(nexp):\n",
    "        random_forest = rf.RandomForest(n_trees=ntree, n_candidates=n_cand, max_depth=100)\n",
    "        random_forest.fit(X_train, y_train, feature_type=ftype, m_features=m_feats)\n",
    "        result[i, j] = misclass_rate(random_forest.predict(X_test), y_test)\n",
    "results[dataset] = result"
   ]
  },
  {
   "cell_type": "code",
   "execution_count": 84,
   "metadata": {},
   "outputs": [],
   "source": [
    "dataset = \"mushroom\"\n",
    "X_train, X_test, y_train, y_test, ftype = datasets[dataset]\n",
    "result = np.empty((len(ntrees), nexp), dtype=float)\n",
    "m_feats = int(np.floor(np.sqrt(X_train.shape[1])))\n",
    "n_cand = 3*m_feats\n",
    "np.random.seed(1)\n",
    "for i, ntree in enumerate(ntrees):\n",
    "    for j in range(nexp):\n",
    "        random_forest = rf.RandomForest(n_trees=ntree, n_candidates=n_cand, max_depth=100)\n",
    "        random_forest.fit(X_train, y_train, feature_type=ftype, m_features=m_feats)\n",
    "        result[i, j] = misclass_rate(random_forest.predict(X_test), y_test)\n",
    "results[dataset] = result"
   ]
  },
  {
   "cell_type": "code",
   "execution_count": 34,
   "metadata": {},
   "outputs": [
    {
     "name": "stdout",
     "output_type": "stream",
     "text": [
      "0 0\n",
      "0 1\n",
      "0 2\n",
      "0 3\n",
      "0 4\n",
      "0 5\n",
      "0 6\n",
      "0 7\n",
      "0 8\n",
      "0 9\n",
      "1 0\n",
      "1 1\n",
      "1 2\n",
      "1 3\n",
      "1 4\n",
      "1 5\n",
      "1 6\n",
      "1 7\n",
      "1 8\n",
      "1 9\n",
      "2 0\n",
      "2 1\n",
      "2 2\n",
      "2 3\n",
      "2 4\n",
      "2 5\n",
      "2 6\n",
      "2 7\n",
      "2 8\n",
      "2 9\n",
      "3 0\n",
      "3 1\n",
      "3 2\n",
      "3 3\n",
      "3 4\n",
      "3 5\n",
      "3 6\n",
      "3 7\n",
      "3 8\n",
      "3 9\n",
      "4 0\n",
      "4 1\n",
      "4 2\n",
      "4 3\n",
      "4 4\n",
      "4 5\n",
      "4 6\n",
      "4 7\n",
      "4 8\n",
      "4 9\n",
      "5 0\n",
      "5 1\n",
      "5 2\n",
      "5 3\n",
      "5 4\n",
      "5 5\n",
      "5 6\n",
      "5 7\n",
      "5 8\n",
      "5 9\n",
      "6 0\n",
      "6 1\n",
      "6 2\n",
      "6 3\n",
      "6 4\n",
      "6 5\n",
      "6 6\n",
      "6 7\n",
      "6 8\n",
      "6 9\n",
      "7 0\n",
      "7 1\n",
      "7 2\n",
      "7 3\n",
      "7 4\n",
      "7 5\n",
      "7 6\n",
      "7 7\n",
      "7 8\n",
      "7 9\n",
      "8 0\n",
      "8 1\n",
      "8 2\n",
      "8 3\n",
      "8 4\n",
      "8 5\n",
      "8 6\n",
      "8 7\n",
      "8 8\n",
      "8 9\n",
      "9 0\n",
      "9 1\n",
      "9 2\n",
      "9 3\n",
      "9 4\n",
      "9 5\n",
      "9 6\n",
      "9 7\n",
      "9 8\n",
      "9 9\n",
      "10 0\n",
      "10 1\n",
      "10 2\n",
      "10 3\n",
      "10 4\n",
      "10 5\n",
      "10 6\n",
      "10 7\n",
      "10 8\n",
      "10 9\n",
      "11 0\n",
      "11 1\n",
      "11 2\n",
      "11 3\n",
      "11 4\n",
      "11 5\n",
      "11 6\n",
      "11 7\n",
      "11 8\n",
      "11 9\n",
      "12 0\n",
      "12 1\n",
      "12 2\n",
      "12 3\n",
      "12 4\n",
      "12 5\n",
      "12 6\n",
      "12 7\n",
      "12 8\n",
      "12 9\n",
      "13 0\n",
      "13 1\n",
      "13 2\n",
      "13 3\n",
      "13 4\n",
      "13 5\n",
      "13 6\n",
      "13 7\n",
      "13 8\n",
      "13 9\n",
      "14 0\n",
      "14 1\n",
      "14 2\n",
      "14 3\n",
      "14 4\n",
      "14 5\n",
      "14 6\n",
      "14 7\n",
      "14 8\n",
      "14 9\n",
      "15 0\n",
      "15 1\n",
      "15 2\n",
      "15 3\n",
      "15 4\n",
      "15 5\n",
      "15 6\n",
      "15 7\n",
      "15 8\n",
      "15 9\n",
      "16 0\n",
      "16 1\n",
      "16 2\n",
      "16 3\n",
      "16 4\n",
      "16 5\n",
      "16 6\n",
      "16 7\n",
      "16 8\n",
      "16 9\n",
      "17 0\n",
      "17 1\n",
      "17 2\n",
      "17 3\n",
      "17 4\n",
      "17 5\n",
      "17 6\n",
      "17 7\n",
      "17 8\n",
      "17 9\n",
      "18 0\n",
      "18 1\n",
      "18 2\n",
      "18 3\n",
      "18 4\n",
      "18 5\n",
      "18 6\n",
      "18 7\n",
      "18 8\n",
      "18 9\n",
      "19 0\n",
      "19 1\n",
      "19 2\n",
      "19 3\n",
      "19 4\n",
      "19 5\n",
      "19 6\n",
      "19 7\n",
      "19 8\n",
      "19 9\n"
     ]
    }
   ],
   "source": [
    "dataset = \"breast\"\n",
    "X_train, X_test, y_train, y_test, ftype = datasets[dataset]\n",
    "result = np.empty((len(ntrees), nexp), dtype=float)\n",
    "m_feats = int(np.floor(np.sqrt(X_train.shape[1])))\n",
    "n_cand = 3*m_feats\n",
    "np.random.seed(1)\n",
    "for i, ntree in enumerate(ntrees):\n",
    "    for j in range(nexp):\n",
    "        print(i, j)\n",
    "        random_forest = rf.RandomForest(n_trees=ntree, n_candidates=n_cand, max_depth=100)\n",
    "        random_forest.fit(X_train, y_train, feature_type=ftype, m_features=m_feats)\n",
    "        result[i, j] = misclass_rate(random_forest.predict(X_test), y_test)\n",
    "results[dataset] = result"
   ]
  },
  {
   "cell_type": "code",
   "execution_count": 38,
   "metadata": {},
   "outputs": [],
   "source": [
    "po = open(\"vary_n_trees_breast.pickle\", \"wb\")\n",
    "pickle.dump(results, po)\n",
    "po.close()"
   ]
  },
  {
   "cell_type": "code",
   "execution_count": 37,
   "metadata": {},
   "outputs": [
    {
     "data": {
      "text/plain": [
       "dict_keys(['iris', 'wine', 'heart', 'titanic', 'mushroom', 'breast'])"
      ]
     },
     "execution_count": 37,
     "metadata": {},
     "output_type": "execute_result"
    }
   ],
   "source": [
    "results.keys()"
   ]
  },
  {
   "cell_type": "code",
   "execution_count": 30,
   "metadata": {},
   "outputs": [],
   "source": [
    "po = open(\"vary_n_trees.pickle\", \"rb\")\n",
    "results = pickle.load(po)\n",
    "po.close()"
   ]
  },
  {
   "cell_type": "code",
   "execution_count": 40,
   "metadata": {},
   "outputs": [],
   "source": [
    "mean_sd = get_mean_sd(results)"
   ]
  },
  {
   "cell_type": "code",
   "execution_count": 42,
   "metadata": {},
   "outputs": [
    {
     "data": {
      "text/plain": [
       "<matplotlib.legend.Legend at 0x29269c7b150>"
      ]
     },
     "execution_count": 42,
     "metadata": {},
     "output_type": "execute_result"
    },
    {
     "data": {
      "image/png": "[encoded data removed]",
      "text/plain": [
       "<Figure size 640x480 with 1 Axes>"
      ]
     },
     "metadata": {},
     "output_type": "display_data"
    }
   ],
   "source": [
    "for dataset, m_sd in mean_sd.items():\n",
    "    if dataset==\"mushroom\":\n",
    "        continue\n",
    "    plt.errorbar(ntrees, m_sd[:, 0], yerr=m_sd[:, 1]/np.sqrt(nexp), label=dataset, capsize=5, fmt=\"o-\", c=cmap[dataset])\n",
    "plt.xlabel(\"n_trees\")\n",
    "plt.ylabel(\"Misclassification rate\")\n",
    "plt.title(\"Effect of varying n_trees on misclassification rate\")\n",
    "plt.legend()"
   ]
  },
  {
   "cell_type": "code",
   "execution_count": null,
   "metadata": {},
   "outputs": [],
   "source": []
  }
 ],
 "metadata": {
  "kernelspec": {
   "display_name": "M2R_venv",
   "language": "python",
   "name": "python3"
  },
  "language_info": {
   "codemirror_mode": {
    "name": "ipython",
    "version": 3
   },
   "file_extension": ".py",
   "mimetype": "text/x-python",
   "name": "python",
   "nbconvert_exporter": "python",
   "pygments_lexer": "ipython3",
   "version": "3.11.1"
  },
  "orig_nbformat": 4
 },
 "nbformat": 4,
 "nbformat_minor": 2
}
