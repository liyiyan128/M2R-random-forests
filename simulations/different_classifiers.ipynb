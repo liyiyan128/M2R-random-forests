{
 "cells": [
  {
   "cell_type": "code",
   "execution_count": 100,
   "metadata": {},
   "outputs": [],
   "source": [
    "# Copy this file and then run an experiment\n",
    "# Import modules\n",
    "import numpy as np\n",
    "import pandas as pd\n",
    "from sklearn.model_selection import train_test_split\n",
    "import matplotlib.pyplot as plt\n",
    "import importlib\n",
    "import pickle  # Use this to save results so we don't need to rerun experiments\n",
    "rf = importlib.import_module(\"random-forests\")\n",
    "misclass_rate = rf.random_forests.misclassification_rate\n",
    "cmap = {\"iris\": \"blue\", \"wine\": \"purple\", \"heart\": \"red\", \"titanic\": \"green\", \"breast\": \"orange\"}\n",
    "def comp_mean_sd(arr):\n",
    "    return np.array([np.mean(arr), np.std(arr)])\n",
    "def get_mean_sd(results):\n",
    "    ret = {}\n",
    "    for k in results.keys():\n",
    "        ret[k] = np.apply_along_axis(comp_mean_sd, 1, results[k])\n",
    "    return ret"
   ]
  },
  {
   "cell_type": "code",
   "execution_count": 101,
   "metadata": {},
   "outputs": [],
   "source": [
    "# Load all datasets to use\n",
    "mushroom = np.loadtxt(\"agaricus-lepiota.data\", dtype=str, delimiter=\",\")\n",
    "wine = np.loadtxt(\"wine.data\", delimiter=\",\")\n",
    "iris = np.loadtxt(\"iris_csv.csv\", dtype=str, delimiter=\",\")\n",
    "heart = np.loadtxt(\"processed.cleveland.data\", dtype=str, delimiter=\",\")\n",
    "titanic = pd.read_csv(\"titanic.csv\").drop(columns=[\"PassengerId\", \"Name\", \"Ticket\", \"Cabin\"]).dropna()\n",
    "breast = np.loadtxt(\"breast-cancer.data\", delimiter=\",\", dtype=str)"
   ]
  },
  {
   "cell_type": "code",
   "execution_count": 102,
   "metadata": {},
   "outputs": [],
   "source": [
    "# Clean data\n",
    "def str_in_arr(arr, str):\n",
    "    return not np.isin(str, arr)\n",
    "barr_mushroom = np.apply_along_axis(str_in_arr, 1, mushroom, \"?\")\n",
    "mushroom = mushroom[barr_mushroom, :]\n",
    "barr_breast = np.apply_along_axis(str_in_arr, 1, breast, \"?\")\n",
    "breast = breast[barr_breast, :]\n",
    "barr_heart = np.apply_along_axis(str_in_arr, 1, heart, \"?\")\n",
    "heart = heart[barr_heart, :]\n",
    "heart = heart.astype(float)"
   ]
  },
  {
   "cell_type": "code",
   "execution_count": 103,
   "metadata": {},
   "outputs": [],
   "source": [
    "# Separate into data and labels\n",
    "iris_data = iris[1:, :4].astype(float)\n",
    "iris_labels = iris[1:, 4]\n",
    "wine_data = wine[:, 1:]\n",
    "wine_labels = wine[:, 0].astype(int)\n",
    "heart_data = heart[:, :-1]\n",
    "heart_labels = heart[:, -1].astype(int)\n",
    "# Turn heart_labels into array of 0, 1.\n",
    "# 1 indicates presence of any type of heart disease, 0 indicates no presence\n",
    "heart_labels_barr = heart_labels >= 1\n",
    "heart_labels[heart_labels_barr] = 1\n",
    "mushroom_data = mushroom[:, 1:]\n",
    "mushroom_labels = mushroom[:, 0]\n",
    "breast_data = breast[:, 1:]\n",
    "breast_labels = breast[:, 0]\n",
    "titanic_data = titanic.loc[:, titanic.columns!=\"Survived\"].to_numpy()  # feature_type: complex\n",
    "titanic_labels = titanic[\"Survived\"].to_numpy()"
   ]
  },
  {
   "cell_type": "code",
   "execution_count": 104,
   "metadata": {},
   "outputs": [],
   "source": [
    "# Record the feature types\n",
    "iris_ftype = \"continuous\"\n",
    "heart_ftype = np.array([0, 1, 1, 0, 0, 1, 1, 0, 1, 0, 1, 0, 1])\n",
    "wine_ftype = \"continuous\"\n",
    "mushroom_ftype = \"categorical\"\n",
    "breast_ftype = \"categorical\"\n",
    "titanic_ftype = np.array([1, 1, 0, 0, 0, 0, 1])"
   ]
  },
  {
   "cell_type": "code",
   "execution_count": 105,
   "metadata": {},
   "outputs": [],
   "source": [
    "# Set the seed so test train split it always the same for all tests\n",
    "np.random.seed(1)\n",
    "datasets = {\"iris\": (*train_test_split(iris_data, iris_labels, stratify=iris_labels), \"continuous\"),\n",
    "            \"wine\": (*train_test_split(wine_data, wine_labels, stratify=wine_labels), \"continuous\"),\n",
    "            \"heart\": (*train_test_split(heart_data, heart_labels, stratify=heart_labels), heart_ftype),\n",
    "            \"mushroom\": (*train_test_split(mushroom_data, mushroom_labels, stratify=mushroom_labels), \"categorical\"),\n",
    "            \"titanic\": (*train_test_split(titanic_data, titanic_labels, stratify=titanic_labels), titanic_ftype),\n",
    "            \"breast\" : (*train_test_split(breast_data, breast_labels, stratify=breast_labels), \"categorical\")}"
   ]
  },
  {
   "cell_type": "code",
   "execution_count": 120,
   "metadata": {},
   "outputs": [],
   "source": [
    "X_train, X_test, y_train, y_test, heart_ftype = datasets[\"heart\"]\n",
    "X_train_df = pd.DataFrame(X_train, columns=[\"age\", \"sex\", \"cp\", \"trestbps\", \"chol\", \"fbs\", \"restecg\", \"thalach\", \"exang\", \"oldpeak\", \"slope\", \"ca\", \"thal\"])\n",
    "X_train_df.iloc[:, heart_ftype.astype(bool)] = X_train_df.iloc[:, heart_ftype.astype(bool)].astype(\"category\")\n",
    "X_test_df = pd.DataFrame(X_test, columns=[\"age\", \"sex\", \"cp\", \"trestbps\", \"chol\", \"fbs\", \"restecg\", \"thalach\", \"exang\", \"oldpeak\", \"slope\", \"ca\", \"thal\"])\n",
    "X_test_df.iloc[:, heart_ftype.astype(bool)] = X_test_df.iloc[:, heart_ftype.astype(bool)].astype(\"category\")\n",
    "datasets[\"heart_df\"] = (X_train_df, X_test_df, y_train, y_test, heart_ftype)"
   ]
  },
  {
   "cell_type": "code",
   "execution_count": 107,
   "metadata": {},
   "outputs": [],
   "source": [
    "po = open(\"vary_n_trees_breast.pickle\", \"rb\")\n",
    "results = pickle.load(po)\n",
    "po.close()"
   ]
  },
  {
   "cell_type": "code",
   "execution_count": 108,
   "metadata": {},
   "outputs": [],
   "source": [
    "ntrees = np.arange(1, 21)\n",
    "nexp = 10"
   ]
  },
  {
   "cell_type": "code",
   "execution_count": 129,
   "metadata": {},
   "outputs": [],
   "source": [
    "X_train, X_test, y_train, y_test, ftype = datasets[\"heart_df\"]\n",
    "result = np.empty((len(ntrees), nexp), dtype=float)\n",
    "m_feats = int(np.floor(np.sqrt(X_train.shape[1])))\n",
    "n_cand = 3*m_feats\n",
    "np.random.seed(1)\n",
    "for i, ntree in enumerate(ntrees):\n",
    "    for j in range(nexp):\n",
    "        boost = XGBClassifier(n_estimators=ntree, max_depth=2, enable_categorical=True, tree_method=\"approx\")\n",
    "        boost.fit(X_train, y_train)\n",
    "        result[i, j] = misclass_rate(boost.predict(X_test), y_test)\n",
    "results[\"heart_boost\"] = result"
   ]
  },
  {
   "cell_type": "code",
   "execution_count": 166,
   "metadata": {},
   "outputs": [],
   "source": [
    "X_train, X_test, y_train, y_test, ftype = datasets[\"iris\"]\n",
    "result = np.empty(len(ntrees), dtype=float)\n",
    "np.random.seed(1)\n",
    "for i, ntree in enumerate(ntrees):\n",
    "    boost = XGBClassifier(n_estimators=ntree, max_depth=2, tree_method=\"approx\")\n",
    "    boost.fit(X_train, encode(y_train))\n",
    "    result[i] = misclass_rate(boost.predict(X_test), encode(y_test))\n",
    "results[\"iris_boost\"] = result"
   ]
  },
  {
   "cell_type": "code",
   "execution_count": 165,
   "metadata": {},
   "outputs": [],
   "source": [
    "def encode(y):\n",
    "    labels = list(np.unique(y))\n",
    "    labels.sort()\n",
    "    ret = np.zeros(len(y), dtype=int)\n",
    "    for i, label in enumerate(labels):\n",
    "        barr = y == label\n",
    "        ret[barr] = i\n",
    "    return ret"
   ]
  },
  {
   "cell_type": "code",
   "execution_count": 170,
   "metadata": {},
   "outputs": [],
   "source": [
    "X_train, X_test, y_train, y_test, ftype = datasets[\"breast\"]\n",
    "X_train_df = pd.DataFrame(X_train).astype(\"category\")\n",
    "X_test_df = pd.DataFrame(X_test).astype(\"category\")\n",
    "datasets[\"breast_df\"] = (X_train_df, X_test_df, encode(y_train), encode(y_test), ftype)"
   ]
  },
  {
   "cell_type": "code",
   "execution_count": 174,
   "metadata": {},
   "outputs": [],
   "source": [
    "X_train, X_test, y_train, y_test, ftype = datasets[\"breast_df\"]\n",
    "result = np.empty(len(ntrees), dtype=float)\n",
    "np.random.seed(1)\n",
    "for i, ntree in enumerate(ntrees):\n",
    "    boost = XGBClassifier(n_estimators=ntree, max_depth=2, tree_method=\"approx\", enable_categorical=True)\n",
    "    boost.fit(X_train, y_train)\n",
    "    result[i] = misclass_rate(boost.predict(X_test), y_test)\n",
    "results[\"breast_boost\"] = result"
   ]
  },
  {
   "cell_type": "code",
   "execution_count": 175,
   "metadata": {},
   "outputs": [
    {
     "data": {
      "text/plain": [
       "array([0.27142857, 0.22857143, 0.25714286, 0.24285714, 0.25714286,\n",
       "       0.25714286, 0.25714286, 0.27142857, 0.25714286, 0.27142857,\n",
       "       0.27142857, 0.27142857, 0.27142857, 0.27142857, 0.27142857,\n",
       "       0.27142857, 0.27142857, 0.27142857, 0.27142857, 0.25714286])"
      ]
     },
     "execution_count": 175,
     "metadata": {},
     "output_type": "execute_result"
    }
   ],
   "source": [
    "results[\"breast_boost\"]"
   ]
  },
  {
   "cell_type": "code",
   "execution_count": 176,
   "metadata": {},
   "outputs": [
    {
     "data": {
      "text/plain": [
       "dict_keys(['iris', 'wine', 'heart', 'titanic', 'mushroom', 'breast', 'titanic_boost', 'heart_boost', 'iris_boost', 'breast_boost'])"
      ]
     },
     "execution_count": 176,
     "metadata": {},
     "output_type": "execute_result"
    }
   ],
   "source": [
    "results.keys()"
   ]
  },
  {
   "cell_type": "code",
   "execution_count": 181,
   "metadata": {},
   "outputs": [],
   "source": [
    "po = open(\"vary_n_trees_breast.pickle\", \"rb\")\n",
    "r2 = pickle.load(po)\n",
    "po.close()"
   ]
  },
  {
   "cell_type": "code",
   "execution_count": 210,
   "metadata": {},
   "outputs": [
    {
     "data": {
      "text/plain": [
       "<matplotlib.legend.Legend at 0x224c140ef50>"
      ]
     },
     "execution_count": 210,
     "metadata": {},
     "output_type": "execute_result"
    },
    {
     "data": {
      "image/png": "[encoded data removed]",
      "text/plain": [
       "<Figure size 640x480 with 1 Axes>"
      ]
     },
     "metadata": {},
     "output_type": "display_data"
    }
   ],
   "source": [
    "mean_sd = get_mean_sd(r2)\n",
    "for dataset, m_sd in mean_sd.items():\n",
    "    if dataset in {\"mushroom\", \"titanic\", \"wine\"}:\n",
    "        continue\n",
    "    plt.errorbar(ntrees, m_sd[:, 0], yerr=m_sd[:, 1]/np.sqrt(nexp), label=dataset + \" random forest\", capsize=5, fmt=\"o-\", c=cmap[dataset])\n",
    "plt.plot(ntrees, results[\"iris_boost\"], c=cmap[\"iris\"], linestyle=\":\", label=\"iris xgboost\")\n",
    "plt.plot(ntrees, results[\"breast_boost\"], c=cmap[\"breast\"], linestyle=\":\", label= \"breast xgboost\")\n",
    "plt.plot(ntrees, results[\"heart_boost\"][:,0], c=cmap[\"heart\"], linestyle=\":\", label=\"heart xgboost\")\n",
    "plt.xlabel(\"n_trees\")\n",
    "plt.ylabel(\"Misclassification rate\")\n",
    "plt.title(\"Effect of varying n_trees on misclassification rate\")\n",
    "plt.legend(fontsize=\"x-small\")"
   ]
  },
  {
   "cell_type": "code",
   "execution_count": 189,
   "metadata": {},
   "outputs": [],
   "source": [
    "po = open(\"test_boosting.pickle\", \"wb\")\n",
    "pickle.dump(results, po)\n",
    "po.close()"
   ]
  },
  {
   "cell_type": "code",
   "execution_count": null,
   "metadata": {},
   "outputs": [],
   "source": [
    "results_knn = {}"
   ]
  },
  {
   "cell_type": "code",
   "execution_count": 198,
   "metadata": {},
   "outputs": [
    {
     "data": {
      "text/plain": [
       "array([0.26666667, 0.28888889, 0.33333333, 0.4       , 0.31111111,\n",
       "       0.35555556, 0.28888889, 0.35555556, 0.35555556])"
      ]
     },
     "execution_count": 198,
     "metadata": {},
     "output_type": "execute_result"
    }
   ],
   "source": [
    "from sklearn.neighbors import KNeighborsClassifier\n",
    "X_train, X_test, y_train, y_test, ftype = datasets[\"wine\"]\n",
    "nneighbours = np.arange(1,10)\n",
    "misclass_rates = np.zeros(len(nneighbours), dtype=float)\n",
    "for i, n in enumerate(nneighbours):\n",
    "    neigh = KNeighborsClassifier(n_neighbors=n)\n",
    "    neigh.fit(X_train, y_train)\n",
    "    misclass_rates[i] = misclass_rate(neigh.predict(X_test), y_test)\n",
    "misclass_rates"
   ]
  },
  {
   "cell_type": "code",
   "execution_count": 200,
   "metadata": {},
   "outputs": [
    {
     "data": {
      "text/plain": [
       "array([0.02631579, 0.05263158, 0.02631579, 0.05263158, 0.05263158,\n",
       "       0.02631579, 0.05263158, 0.05263158, 0.02631579])"
      ]
     },
     "execution_count": 200,
     "metadata": {},
     "output_type": "execute_result"
    }
   ],
   "source": [
    "from sklearn.neighbors import KNeighborsClassifier\n",
    "X_train, X_test, y_train, y_test, ftype = datasets[\"iris\"]\n",
    "nneighbours = np.arange(1,10)\n",
    "misclass_rates = np.zeros(len(nneighbours), dtype=float)\n",
    "for i, n in enumerate(nneighbours):\n",
    "    neigh = KNeighborsClassifier(n_neighbors=n)\n",
    "    neigh.fit(X_train, y_train)\n",
    "    misclass_rates[i] = misclass_rate(neigh.predict(X_test), y_test)\n",
    "misclass_rates"
   ]
  },
  {
   "cell_type": "code",
   "execution_count": 201,
   "metadata": {},
   "outputs": [
    {
     "data": {
      "text/plain": [
       "array([0.15789474, 0.10526316, 0.05263158, 0.05263158, 0.02631579,\n",
       "       0.02631579, 0.02631579, 0.02631579, 0.02631579, 0.02631579,\n",
       "       0.02631579, 0.02631579, 0.02631579, 0.02631579, 0.02631579,\n",
       "       0.02631579, 0.02631579, 0.02631579, 0.02631579])"
      ]
     },
     "execution_count": 201,
     "metadata": {},
     "output_type": "execute_result"
    }
   ],
   "source": [
    "from sklearn.svm import SVC\n",
    "X_train, X_test, y_train, y_test, ftype = datasets[\"iris\"]\n",
    "nneighbours = np.arange(0.1,2.0,0.1)\n",
    "misclass_rates = np.zeros(len(nneighbours), dtype=float)\n",
    "for i, n in enumerate(nneighbours):\n",
    "    neigh = SVC(C=n)\n",
    "    neigh.fit(X_train, y_train)\n",
    "    misclass_rates[i] = misclass_rate(neigh.predict(X_test), y_test)\n",
    "misclass_rates"
   ]
  },
  {
   "cell_type": "code",
   "execution_count": 209,
   "metadata": {},
   "outputs": [
    {
     "data": {
      "text/plain": [
       "array([0.35555556, 0.35555556, 0.35555556, 0.37777778, 0.33333333,\n",
       "       0.4       , 0.37777778, 0.35555556, 0.4       , 0.37777778,\n",
       "       0.35555556, 0.35555556, 0.37777778, 0.4       , 0.37777778,\n",
       "       0.37777778, 0.37777778, 0.37777778, 0.37777778])"
      ]
     },
     "execution_count": 209,
     "metadata": {},
     "output_type": "execute_result"
    }
   ],
   "source": [
    "from sklearn.svm import SVC\n",
    "X_train, X_test, y_train, y_test, ftype = datasets[\"wine\"]\n",
    "nneighbours = np.arange(0.1,2.0,0.1)\n",
    "misclass_rates = np.zeros(len(nneighbours), dtype=float)\n",
    "for i, n in enumerate(nneighbours):\n",
    "    svc = SVC(C=n, degree=100)\n",
    "    svc.fit(X_train, y_train)\n",
    "    misclass_rates[i] = misclass_rate(svc.predict(X_test), y_test)\n",
    "misclass_rates"
   ]
  },
  {
   "cell_type": "code",
   "execution_count": 211,
   "metadata": {},
   "outputs": [],
   "source": [
    "a, b, c, d, e = datasets[\"titanic\"]"
   ]
  },
  {
   "cell_type": "code",
   "execution_count": 212,
   "metadata": {},
   "outputs": [
    {
     "data": {
      "text/plain": [
       "(534, 7)"
      ]
     },
     "execution_count": 212,
     "metadata": {},
     "output_type": "execute_result"
    }
   ],
   "source": [
    "a.shape"
   ]
  },
  {
   "cell_type": "code",
   "execution_count": null,
   "metadata": {},
   "outputs": [],
   "source": []
  }
 ],
 "metadata": {
  "kernelspec": {
   "display_name": "M2R_venv",
   "language": "python",
   "name": "python3"
  },
  "language_info": {
   "codemirror_mode": {
    "name": "ipython",
    "version": 3
   },
   "file_extension": ".py",
   "mimetype": "text/x-python",
   "name": "python",
   "nbconvert_exporter": "python",
   "pygments_lexer": "ipython3",
   "version": "3.11.1"
  },
  "orig_nbformat": 4
 },
 "nbformat": 4,
 "nbformat_minor": 2
}
