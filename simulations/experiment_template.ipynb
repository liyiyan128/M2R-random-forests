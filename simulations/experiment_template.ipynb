{
 "cells": [
  {
   "cell_type": "code",
   "execution_count": 16,
   "metadata": {},
   "outputs": [],
   "source": [
    "# Copy this file and then run an experiment\n",
    "# Import modules\n",
    "import numpy as np\n",
    "import pandas as pd\n",
    "from sklearn.model_selection import train_test_split\n",
    "import matplotlib.pyplot as plt\n",
    "import importlib\n",
    "import pickle  # Use this to save results so we don't need to rerun experiments\n",
    "rf = importlib.import_module(\"random-forests\")\n",
    "misclass_rate = rf.random_forests.misclassification_rate\n",
    "cmap = {\"iris\": \"blue\", \"wine\": \"purple\", \"heart\": \"red\", \"titanic\": \"green\", \"breast\": \"orange\"}\n",
    "def comp_mean_sd(arr):\n",
    "    return np.array([np.mean(arr), np.std(arr)])\n",
    "def get_mean_sd(results):\n",
    "    ret = {}\n",
    "    for k in results.keys():\n",
    "        ret[k] = np.apply_along_axis(comp_mean_sd, 1, results[k])\n",
    "    return ret"
   ]
  },
  {
   "cell_type": "code",
   "execution_count": 11,
   "metadata": {},
   "outputs": [],
   "source": [
    "# Load all datasets to use\n",
    "mushroom = np.loadtxt(\"agaricus-lepiota.data\", dtype=str, delimiter=\",\")\n",
    "wine = np.loadtxt(\"wine.data\", delimiter=\",\")\n",
    "iris = np.loadtxt(\"iris_csv.csv\", dtype=str, delimiter=\",\")\n",
    "heart = np.loadtxt(\"processed.cleveland.data\", dtype=str, delimiter=\",\")\n",
    "titanic = pd.read_csv(\"titanic.csv\").drop(columns=[\"PassengerId\", \"Name\", \"Ticket\", \"Cabin\"]).dropna()\n",
    "breast = np.loadtxt(\"breast-cancer.data\", delimiter=\",\", dtype=str)"
   ]
  },
  {
   "cell_type": "code",
   "execution_count": 12,
   "metadata": {},
   "outputs": [],
   "source": [
    "# Clean data\n",
    "def str_in_arr(arr, str):\n",
    "    return not np.isin(str, arr)\n",
    "barr_mushroom = np.apply_along_axis(str_in_arr, 1, mushroom, \"?\")\n",
    "mushroom = mushroom[barr_mushroom, :]\n",
    "barr_breast = np.apply_along_axis(str_in_arr, 1, breast, \"?\")\n",
    "breast = breast[barr_breast, :]\n",
    "barr_heart = np.apply_along_axis(str_in_arr, 1, heart, \"?\")\n",
    "heart = heart[barr_heart, :]\n",
    "heart = heart.astype(float)"
   ]
  },
  {
   "cell_type": "code",
   "execution_count": 13,
   "metadata": {},
   "outputs": [],
   "source": [
    "# Separate into data and labels\n",
    "iris_data = iris[1:, :4].astype(float)\n",
    "iris_labels = iris[1:, 4]\n",
    "wine_data = wine[:, 1:]\n",
    "wine_labels = wine[:, 0].astype(int)\n",
    "heart_data = heart[:, :-1]\n",
    "heart_labels = heart[:, -1].astype(int)\n",
    "# Turn heart_labels into array of 0, 1.\n",
    "# 1 indicates presence of any type of heart disease, 0 indicates no presence\n",
    "heart_labels_barr = heart_labels >= 1\n",
    "heart_labels[heart_labels_barr] = 1\n",
    "mushroom_data = mushroom[:, 1:]\n",
    "mushroom_labels = mushroom[:, 0]\n",
    "breast_data = breast[:, 1:]\n",
    "breast_labels = breast[:, 0]\n",
    "titanic_data = titanic.loc[:, titanic.columns!=\"Survived\"].to_numpy()  # feature_type: complex\n",
    "titanic_labels = titanic[\"Survived\"].to_numpy()"
   ]
  },
  {
   "cell_type": "code",
   "execution_count": 14,
   "metadata": {},
   "outputs": [],
   "source": [
    "# Record the feature types\n",
    "iris_ftype = \"continuous\"\n",
    "heart_ftype = np.array([0, 1, 1, 0, 0, 1, 1, 0, 1, 0, 1, 0, 1])\n",
    "wine_ftype = \"continuous\"\n",
    "mushroom_ftype = \"categorical\"\n",
    "breast_ftype = \"categorical\"\n",
    "titanic_ftype = np.array([1, 1, 0, 0, 0, 0, 1])"
   ]
  },
  {
   "cell_type": "code",
   "execution_count": 15,
   "metadata": {},
   "outputs": [],
   "source": [
    "# Set the seed so test train split it always the same for all tests\n",
    "np.random.seed(1)\n",
    "datasets = {\"iris\": (*train_test_split(iris_data, iris_labels, stratify=iris_labels), \"continuous\"),\n",
    "            \"wine\": (*train_test_split(wine_data, wine_labels, stratify=wine_labels), \"continuous\"),\n",
    "            \"heart\": (*train_test_split(heart_data, heart_labels, stratify=heart_labels), heart_ftype),\n",
    "            \"mushroom\": (*train_test_split(mushroom_data, mushroom_labels, stratify=mushroom_labels), \"categorical\"),\n",
    "            \"titanic\": (*train_test_split(titanic_data, titanic_labels, stratify=titanic_labels), titanic_ftype),\n",
    "            \"breast\" : (*train_test_split(breast_data, breast_labels, stratify=breast_labels), \"categorical\")}"
   ]
  },
  {
   "cell_type": "code",
   "execution_count": null,
   "metadata": {},
   "outputs": [],
   "source": []
  }
 ],
 "metadata": {
  "kernelspec": {
   "display_name": "M2R_venv",
   "language": "python",
   "name": "python3"
  },
  "language_info": {
   "codemirror_mode": {
    "name": "ipython",
    "version": 3
   },
   "file_extension": ".py",
   "mimetype": "text/x-python",
   "name": "python",
   "nbconvert_exporter": "python",
   "pygments_lexer": "ipython3",
   "version": "3.11.1"
  },
  "orig_nbformat": 4
 },
 "nbformat": 4,
 "nbformat_minor": 2
}
